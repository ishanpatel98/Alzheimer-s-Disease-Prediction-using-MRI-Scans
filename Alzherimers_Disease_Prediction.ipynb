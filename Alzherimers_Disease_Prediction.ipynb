{
  "cells": [
    {
      "cell_type": "code",
      "execution_count": null,
      "metadata": {
        "id": "fedEEWhUYwdu"
      },
      "outputs": [],
      "source": []
    },
    {
      "cell_type": "code",
      "execution_count": 1,
      "metadata": {
        "colab": {
          "base_uri": "https://localhost:8080/"
        },
        "id": "VeITuXi3U8Zs",
        "outputId": "9206303a-f6e8-44ce-85b3-88dbe35504f8"
      },
      "outputs": [
        {
          "name": "stdout",
          "output_type": "stream",
          "text": [
            "Drive already mounted at /content/drive; to attempt to forcibly remount, call drive.mount(\"/content/drive\", force_remount=True).\n"
          ]
        }
      ],
      "source": [
        "from google.colab import drive\n",
        "drive.mount('/content/drive')"
      ]
    },
    {
      "cell_type": "code",
      "execution_count": 2,
      "metadata": {
        "colab": {
          "base_uri": "https://localhost:8080/"
        },
        "id": "4FXvjKgtU-7e",
        "outputId": "440d0e1d-b844-4732-e947-033d82a038ae"
      },
      "outputs": [
        {
          "name": "stdout",
          "output_type": "stream",
          "text": [
            "Requirement already satisfied: tensorflow-addons in /usr/local/lib/python3.7/dist-packages (0.15.0)\n",
            "Requirement already satisfied: typeguard>=2.7 in /usr/local/lib/python3.7/dist-packages (from tensorflow-addons) (2.7.1)\n"
          ]
        }
      ],
      "source": [
        "!pip install -U tensorflow-addons"
      ]
    },
    {
      "cell_type": "code",
      "execution_count": 2,
      "metadata": {
        "id": "tibMynaCYwaV"
      },
      "outputs": [],
      "source": []
    },
    {
      "cell_type": "code",
      "execution_count": 3,
      "metadata": {
        "id": "9qM_vrtnYrtb"
      },
      "outputs": [],
      "source": [
        "import os\n",
        "import numpy as np\n",
        "import pandas as pd\n",
        "import tensorflow as tf\n",
        "import matplotlib.pyplot as plt\n",
        "import PIL\n",
        "import keras\n",
        "from keras.models import Model\n",
        "from keras.layers import Dense\n",
        "from tensorflow.keras import optimizers\n",
        "from keras.preprocessing.image import ImageDataGenerator\n",
        "from keras.preprocessing import image\n",
        "import matplotlib.pyplot as plt\n",
        "import numpy as np\n",
        "import warnings\n",
        "warnings.filterwarnings(\"ignore\")\n",
        "from tensorflow.keras import Sequential\n",
        "from tensorflow.keras.layers import *\n",
        "from tensorflow.keras.optimizers import *\n",
        "from tensorflow.keras.metrics import *  \n",
        "import tensorflow_addons as tfa\n",
        "import math"
      ]
    },
    {
      "cell_type": "code",
      "execution_count": 4,
      "metadata": {
        "id": "q_giQQpLYrtk"
      },
      "outputs": [],
      "source": [
        "autotune = tf.data.experimental.AUTOTUNE\n",
        "batch = 32\n",
        "target = [208, 176]\n",
        "num_classes=4"
      ]
    },
    {
      "cell_type": "code",
      "execution_count": 6,
      "metadata": {
        "colab": {
          "base_uri": "https://localhost:8080/"
        },
        "id": "Mohp57nZYrtm",
        "outputId": "fefe00e0-2146-4963-a344-6de3c21b9a56"
      },
      "outputs": [
        {
          "name": "stdout",
          "output_type": "stream",
          "text": [
            "Found 5122 files belonging to 4 classes.\n",
            "Using 3586 files for training.\n",
            "Found 5122 files belonging to 4 classes.\n",
            "Using 1536 files for validation.\n"
          ]
        }
      ],
      "source": [
        "#loading in the training set and creating the validation set\n",
        "train_dataset = tf.keras.preprocessing.image_dataset_from_directory(\n",
        "    \"/content/drive/MyDrive/AML_proj_pics2/train\",\n",
        "    validation_split=0.3,\n",
        "    subset=\"training\",\n",
        "    seed=10,\n",
        "    image_size=target,\n",
        "    batch_size=batch,\n",
        "    color_mode=\"rgb\"\n",
        ")\n",
        "\n",
        "val_dataset = tf.keras.preprocessing.image_dataset_from_directory(\n",
        "    \"/content/drive/MyDrive/AML_proj_pics2/train\",\n",
        "    validation_split=0.3,\n",
        "    subset=\"validation\",\n",
        "    seed=10,\n",
        "    image_size=target,\n",
        "    batch_size=batch,\n",
        "    color_mode=\"rgb\"\n",
        ")"
      ]
    },
    {
      "cell_type": "code",
      "execution_count": 7,
      "metadata": {
        "id": "u6mKfGjJYrtm"
      },
      "outputs": [],
      "source": [
        "# assigning one hot encoding of labels to train and val dataset\n",
        "def one_hot_label(image, label):\n",
        "    label = tf.one_hot(label, num_classes)\n",
        "    return image, label\n",
        "\n",
        "train_dataset = train_dataset.map(one_hot_label, num_parallel_calls=autotune)\n",
        "val_dataset = val_dataset.map(one_hot_label, num_parallel_calls=autotune)"
      ]
    },
    {
      "cell_type": "code",
      "execution_count": 8,
      "metadata": {
        "id": "Ed3ixkoEYrto"
      },
      "outputs": [],
      "source": [
        "# preprocessing stage => rescaling pixel values of images\n",
        "preprocess_input = tf.keras.layers.experimental.preprocessing.Rescaling(scale=1./255.)"
      ]
    },
    {
      "cell_type": "code",
      "execution_count": 9,
      "metadata": {
        "colab": {
          "base_uri": "https://localhost:8080/"
        },
        "id": "fysEv8HRYrtq",
        "outputId": "357d8184-4c69-4a43-e83c-ac77df2baa4e"
      },
      "outputs": [
        {
          "data": {
            "text/plain": [
              "[718, 52, 2560, 1792]"
            ]
          },
          "execution_count": 9,
          "metadata": {},
          "output_type": "execute_result"
        }
      ],
      "source": [
        "num_images_per_class = []\n",
        "class_names = ['MildDemented', 'ModerateDemented', 'NonDemented', 'VeryMildDemented']\n",
        "\n",
        "for label in class_names:\n",
        "    dir_name = \"/content/drive/MyDrive/AML_proj_pics2/train/\" + label\n",
        "    num_images_per_class.append(len([name for name in os.listdir(dir_name)]))\n",
        "num_images_per_class"
      ]
    },
    {
      "cell_type": "code",
      "execution_count": 10,
      "metadata": {
        "id": "3F7QoGNGYrtr"
      },
      "outputs": [],
      "source": [
        "# y_train=list of train labels wrt to given directory format\n",
        "y_train=[]\n",
        "for i in range(0, len(num_images_per_class)):\n",
        "    y_train+=[i]*num_images_per_class[i]"
      ]
    },
    {
      "cell_type": "code",
      "execution_count": 11,
      "metadata": {
        "colab": {
          "base_uri": "https://localhost:8080/"
        },
        "id": "FqE7PLZnYrtr",
        "outputId": "dc5cd4d3-b8a4-4e0c-8274-15d3c2642fcb"
      },
      "outputs": [
        {
          "data": {
            "text/plain": [
              "array([ 1.78342618, 24.625     ,  0.50019531,  0.71456473])"
            ]
          },
          "execution_count": 11,
          "metadata": {},
          "output_type": "execute_result"
        }
      ],
      "source": [
        "from sklearn.utils.class_weight import compute_class_weight\n",
        "class_weights=compute_class_weight(class_weight=\"balanced\",classes=[0,1,2,3], y=np.asarray(y_train))\n",
        "class_weights\n",
        "# these weights will be used in fit procedure to compute class-weighted loss"
      ]
    },
    {
      "cell_type": "code",
      "execution_count": 12,
      "metadata": {
        "colab": {
          "base_uri": "https://localhost:8080/"
        },
        "id": "7LfDLEmRYrts",
        "outputId": "beddd4c1-5967-4c6f-a5a0-7130ce2bd170"
      },
      "outputs": [
        {
          "name": "stdout",
          "output_type": "stream",
          "text": [
            "(32, 6, 5, 512)\n"
          ]
        }
      ],
      "source": [
        "# Create the base model from the pre-trained VGG16 architecture\n",
        "base_model = tf.keras.applications.VGG16(input_shape=(*target, 3),\n",
        "                                               include_top=False,\n",
        "                                               weights='imagenet')\n",
        "\n",
        "image_batch, label_batch = next(iter(train_dataset))\n",
        "feature_batch = base_model(image_batch)\n",
        "print(feature_batch.shape)\n"
      ]
    },
    {
      "cell_type": "code",
      "execution_count": 13,
      "metadata": {
        "colab": {
          "base_uri": "https://localhost:8080/"
        },
        "id": "sGZgnlFrYrts",
        "outputId": "56ec2f41-aad2-4690-c433-42f4d0e1cb53"
      },
      "outputs": [
        {
          "name": "stdout",
          "output_type": "stream",
          "text": [
            "Model: \"vgg16\"\n",
            "_________________________________________________________________\n",
            " Layer (type)                Output Shape              Param #   \n",
            "=================================================================\n",
            " input_1 (InputLayer)        [(None, 208, 176, 3)]     0         \n",
            "                                                                 \n",
            " block1_conv1 (Conv2D)       (None, 208, 176, 64)      1792      \n",
            "                                                                 \n",
            " block1_conv2 (Conv2D)       (None, 208, 176, 64)      36928     \n",
            "                                                                 \n",
            " block1_pool (MaxPooling2D)  (None, 104, 88, 64)       0         \n",
            "                                                                 \n",
            " block2_conv1 (Conv2D)       (None, 104, 88, 128)      73856     \n",
            "                                                                 \n",
            " block2_conv2 (Conv2D)       (None, 104, 88, 128)      147584    \n",
            "                                                                 \n",
            " block2_pool (MaxPooling2D)  (None, 52, 44, 128)       0         \n",
            "                                                                 \n",
            " block3_conv1 (Conv2D)       (None, 52, 44, 256)       295168    \n",
            "                                                                 \n",
            " block3_conv2 (Conv2D)       (None, 52, 44, 256)       590080    \n",
            "                                                                 \n",
            " block3_conv3 (Conv2D)       (None, 52, 44, 256)       590080    \n",
            "                                                                 \n",
            " block3_pool (MaxPooling2D)  (None, 26, 22, 256)       0         \n",
            "                                                                 \n",
            " block4_conv1 (Conv2D)       (None, 26, 22, 512)       1180160   \n",
            "                                                                 \n",
            " block4_conv2 (Conv2D)       (None, 26, 22, 512)       2359808   \n",
            "                                                                 \n",
            " block4_conv3 (Conv2D)       (None, 26, 22, 512)       2359808   \n",
            "                                                                 \n",
            " block4_pool (MaxPooling2D)  (None, 13, 11, 512)       0         \n",
            "                                                                 \n",
            " block5_conv1 (Conv2D)       (None, 13, 11, 512)       2359808   \n",
            "                                                                 \n",
            " block5_conv2 (Conv2D)       (None, 13, 11, 512)       2359808   \n",
            "                                                                 \n",
            " block5_conv3 (Conv2D)       (None, 13, 11, 512)       2359808   \n",
            "                                                                 \n",
            " block5_pool (MaxPooling2D)  (None, 6, 5, 512)         0         \n",
            "                                                                 \n",
            "=================================================================\n",
            "Total params: 14,714,688\n",
            "Trainable params: 0\n",
            "Non-trainable params: 14,714,688\n",
            "_________________________________________________________________\n"
          ]
        }
      ],
      "source": [
        "# freezing base_model layers\n",
        "base_model.trainable = False\n",
        "base_model.summary()"
      ]
    },
    {
      "cell_type": "code",
      "execution_count": 14,
      "metadata": {
        "colab": {
          "base_uri": "https://localhost:8080/"
        },
        "id": "L7y8syynYrtt",
        "outputId": "d2644d04-bc13-4532-e331-8d9ca9d09f8f"
      },
      "outputs": [
        {
          "name": "stdout",
          "output_type": "stream",
          "text": [
            "(32, 512)\n"
          ]
        }
      ],
      "source": [
        "# Global average pooling layer\n",
        "global_average_layer = tf.keras.layers.GlobalAveragePooling2D()\n",
        "feature_batch_average = global_average_layer(feature_batch)\n",
        "print(feature_batch_average.shape)"
      ]
    },
    {
      "cell_type": "code",
      "execution_count": 15,
      "metadata": {
        "colab": {
          "base_uri": "https://localhost:8080/"
        },
        "id": "U6bBgzeMYrtt",
        "outputId": "570cf4d0-db6f-4992-8669-e040be3323df"
      },
      "outputs": [
        {
          "name": "stdout",
          "output_type": "stream",
          "text": [
            "(32, 4)\n"
          ]
        }
      ],
      "source": [
        "# Classification head layer\n",
        "prediction_layer = tf.keras.layers.Dense(4, activation=\"softmax\")\n",
        "prediction_batch = prediction_layer(feature_batch_average)\n",
        "print(prediction_batch.shape)"
      ]
    },
    {
      "cell_type": "code",
      "execution_count": 16,
      "metadata": {
        "colab": {
          "base_uri": "https://localhost:8080/"
        },
        "id": "ulkBU4f8Yrtu",
        "outputId": "de196ed6-4533-4e6c-a4cc-f45fc5f483af"
      },
      "outputs": [
        {
          "name": "stdout",
          "output_type": "stream",
          "text": [
            "Model: \"model\"\n",
            "_________________________________________________________________\n",
            " Layer (type)                Output Shape              Param #   \n",
            "=================================================================\n",
            " input_2 (InputLayer)        [(None, 208, 176, 3)]     0         \n",
            "                                                                 \n",
            " rescaling (Rescaling)       (None, 208, 176, 3)       0         \n",
            "                                                                 \n",
            " vgg16 (Functional)          (None, 6, 5, 512)         14714688  \n",
            "                                                                 \n",
            " global_average_pooling2d (G  (None, 512)              0         \n",
            " lobalAveragePooling2D)                                          \n",
            "                                                                 \n",
            " dropout (Dropout)           (None, 512)               0         \n",
            "                                                                 \n",
            " dense (Dense)               (None, 4)                 2052      \n",
            "                                                                 \n",
            "=================================================================\n",
            "Total params: 14,716,740\n",
            "Trainable params: 2,052\n",
            "Non-trainable params: 14,714,688\n",
            "_________________________________________________________________\n"
          ]
        }
      ],
      "source": [
        "# TL model with frozen base\n",
        "\n",
        "\n",
        "inputs = tf.keras.Input(shape=(208,176, 3)) \n",
        "#x = data_augmentation(inputs)\n",
        "x = preprocess_input(inputs)        #rescaling\n",
        "x = base_model(x, training=False)\n",
        "#x = convolution_layer(x)\n",
        "x = global_average_layer(x)\n",
        "x = tf.keras.layers.Dropout(0.2)(x)\n",
        "outputs = prediction_layer(x)\n",
        "model = tf.keras.Model(inputs, outputs)\n",
        "model.summary()"
      ]
    },
    {
      "cell_type": "code",
      "execution_count": 17,
      "metadata": {
        "id": "zBqGYHO1yhre"
      },
      "outputs": [],
      "source": [
        "#Flattening nested model\n",
        "def flatten_model(model_nested):\n",
        "    layers_flat = []\n",
        "    for layer in model_nested.layers:\n",
        "        try:\n",
        "            layers_flat.extend(layer.layers)\n",
        "        except AttributeError:\n",
        "            layers_flat.append(layer)\n",
        "    model_flat = tf.keras.models.Sequential(layers_flat)\n",
        "    return model_flat\n",
        "\n",
        "model_flat = flatten_model(model)"
      ]
    },
    {
      "cell_type": "code",
      "execution_count": 18,
      "metadata": {
        "colab": {
          "base_uri": "https://localhost:8080/"
        },
        "id": "WWCzX0HzOC3F",
        "outputId": "dbba22ca-bb50-4f64-ef6d-a3abae1bc9f7"
      },
      "outputs": [
        {
          "name": "stdout",
          "output_type": "stream",
          "text": [
            "Model: \"sequential\"\n",
            "_________________________________________________________________\n",
            " Layer (type)                Output Shape              Param #   \n",
            "=================================================================\n",
            " rescaling (Rescaling)       (None, 208, 176, 3)       0         \n",
            "                                                                 \n",
            " input_1 (InputLayer)        multiple                  0         \n",
            "                                                                 \n",
            " block1_conv1 (Conv2D)       (None, 208, 176, 64)      1792      \n",
            "                                                                 \n",
            " block1_conv2 (Conv2D)       (None, 208, 176, 64)      36928     \n",
            "                                                                 \n",
            " block1_pool (MaxPooling2D)  (None, 104, 88, 64)       0         \n",
            "                                                                 \n",
            " block2_conv1 (Conv2D)       (None, 104, 88, 128)      73856     \n",
            "                                                                 \n",
            " block2_conv2 (Conv2D)       (None, 104, 88, 128)      147584    \n",
            "                                                                 \n",
            " block2_pool (MaxPooling2D)  (None, 52, 44, 128)       0         \n",
            "                                                                 \n",
            " block3_conv1 (Conv2D)       (None, 52, 44, 256)       295168    \n",
            "                                                                 \n",
            " block3_conv2 (Conv2D)       (None, 52, 44, 256)       590080    \n",
            "                                                                 \n",
            " block3_conv3 (Conv2D)       (None, 52, 44, 256)       590080    \n",
            "                                                                 \n",
            " block3_pool (MaxPooling2D)  (None, 26, 22, 256)       0         \n",
            "                                                                 \n",
            " block4_conv1 (Conv2D)       (None, 26, 22, 512)       1180160   \n",
            "                                                                 \n",
            " block4_conv2 (Conv2D)       (None, 26, 22, 512)       2359808   \n",
            "                                                                 \n",
            " block4_conv3 (Conv2D)       (None, 26, 22, 512)       2359808   \n",
            "                                                                 \n",
            " block4_pool (MaxPooling2D)  (None, 13, 11, 512)       0         \n",
            "                                                                 \n",
            " block5_conv1 (Conv2D)       (None, 13, 11, 512)       2359808   \n",
            "                                                                 \n",
            " block5_conv2 (Conv2D)       (None, 13, 11, 512)       2359808   \n",
            "                                                                 \n",
            " block5_conv3 (Conv2D)       (None, 13, 11, 512)       2359808   \n",
            "                                                                 \n",
            " block5_pool (MaxPooling2D)  (None, 6, 5, 512)         0         \n",
            "                                                                 \n",
            " global_average_pooling2d (G  (None, 512)              0         \n",
            " lobalAveragePooling2D)                                          \n",
            "                                                                 \n",
            " dropout (Dropout)           (None, 512)               0         \n",
            "                                                                 \n",
            " dense (Dense)               (None, 4)                 2052      \n",
            "                                                                 \n",
            "=================================================================\n",
            "Total params: 14,716,740\n",
            "Trainable params: 2,052\n",
            "Non-trainable params: 14,714,688\n",
            "_________________________________________________________________\n"
          ]
        }
      ],
      "source": [
        "model_flat.summary()"
      ]
    },
    {
      "cell_type": "code",
      "execution_count": 19,
      "metadata": {
        "id": "BfFjG6Y-kun5"
      },
      "outputs": [],
      "source": [
        "model=model_flat"
      ]
    },
    {
      "cell_type": "code",
      "execution_count": 20,
      "metadata": {
        "colab": {
          "base_uri": "https://localhost:8080/"
        },
        "id": "_U-kPscH4bL4",
        "outputId": "8669e1d6-7835-46cd-a345-1b5eeeed8e95"
      },
      "outputs": [
        {
          "name": "stdout",
          "output_type": "stream",
          "text": [
            "Model: \"sequential\"\n",
            "_________________________________________________________________\n",
            " Layer (type)                Output Shape              Param #   \n",
            "=================================================================\n",
            " rescaling (Rescaling)       (None, 208, 176, 3)       0         \n",
            "                                                                 \n",
            " input_1 (InputLayer)        multiple                  0         \n",
            "                                                                 \n",
            " block1_conv1 (Conv2D)       (None, 208, 176, 64)      1792      \n",
            "                                                                 \n",
            " block1_conv2 (Conv2D)       (None, 208, 176, 64)      36928     \n",
            "                                                                 \n",
            " block1_pool (MaxPooling2D)  (None, 104, 88, 64)       0         \n",
            "                                                                 \n",
            " block2_conv1 (Conv2D)       (None, 104, 88, 128)      73856     \n",
            "                                                                 \n",
            " block2_conv2 (Conv2D)       (None, 104, 88, 128)      147584    \n",
            "                                                                 \n",
            " block2_pool (MaxPooling2D)  (None, 52, 44, 128)       0         \n",
            "                                                                 \n",
            " block3_conv1 (Conv2D)       (None, 52, 44, 256)       295168    \n",
            "                                                                 \n",
            " block3_conv2 (Conv2D)       (None, 52, 44, 256)       590080    \n",
            "                                                                 \n",
            " block3_conv3 (Conv2D)       (None, 52, 44, 256)       590080    \n",
            "                                                                 \n",
            " block3_pool (MaxPooling2D)  (None, 26, 22, 256)       0         \n",
            "                                                                 \n",
            " block4_conv1 (Conv2D)       (None, 26, 22, 512)       1180160   \n",
            "                                                                 \n",
            " block4_conv2 (Conv2D)       (None, 26, 22, 512)       2359808   \n",
            "                                                                 \n",
            " block4_conv3 (Conv2D)       (None, 26, 22, 512)       2359808   \n",
            "                                                                 \n",
            " block4_pool (MaxPooling2D)  (None, 13, 11, 512)       0         \n",
            "                                                                 \n",
            " block5_conv1 (Conv2D)       (None, 13, 11, 512)       2359808   \n",
            "                                                                 \n",
            " block5_conv2 (Conv2D)       (None, 13, 11, 512)       2359808   \n",
            "                                                                 \n",
            " block5_conv3 (Conv2D)       (None, 13, 11, 512)       2359808   \n",
            "                                                                 \n",
            " block5_pool (MaxPooling2D)  (None, 6, 5, 512)         0         \n",
            "                                                                 \n",
            " global_average_pooling2d (G  (None, 512)              0         \n",
            " lobalAveragePooling2D)                                          \n",
            "                                                                 \n",
            " dropout (Dropout)           (None, 512)               0         \n",
            "                                                                 \n",
            " dense (Dense)               (None, 4)                 2052      \n",
            "                                                                 \n",
            "=================================================================\n",
            "Total params: 14,716,740\n",
            "Trainable params: 2,052\n",
            "Non-trainable params: 14,714,688\n",
            "_________________________________________________________________\n"
          ]
        }
      ],
      "source": [
        "model.summary()"
      ]
    },
    {
      "cell_type": "code",
      "execution_count": 21,
      "metadata": {
        "id": "r9OeA7tkygJ-"
      },
      "outputs": [],
      "source": [
        "# using categorical cross entroopy and Weighted-F1Score as primary metrics\n",
        "model.compile(loss='categorical_crossentropy', optimizer=\"Adam\", metrics=[AUC(name=\"auc\"),\n",
        "                                                                            tfa.metrics.F1Score(name=\"f1\", num_classes=4,\n",
        "                                                                            average=\"weighted\"),\n",
        "                                                                            CategoricalAccuracy(name=\"acc\"),\n",
        "                                                                            CategoricalCrossentropy(name=\"categorical_crossentropy\")\n",
        "                                                                            ])"
      ]
    },
    {
      "cell_type": "code",
      "execution_count": 22,
      "metadata": {
        "colab": {
          "base_uri": "https://localhost:8080/"
        },
        "id": "agjImhuIqp88",
        "outputId": "1ad61eb6-1365-4286-d6cb-c7c22a13b838"
      },
      "outputs": [
        {
          "name": "stdout",
          "output_type": "stream",
          "text": [
            "Model: \"sequential\"\n",
            "_________________________________________________________________\n",
            " Layer (type)                Output Shape              Param #   \n",
            "=================================================================\n",
            " rescaling (Rescaling)       (None, 208, 176, 3)       0         \n",
            "                                                                 \n",
            " input_1 (InputLayer)        multiple                  0         \n",
            "                                                                 \n",
            " block1_conv1 (Conv2D)       (None, 208, 176, 64)      1792      \n",
            "                                                                 \n",
            " block1_conv2 (Conv2D)       (None, 208, 176, 64)      36928     \n",
            "                                                                 \n",
            " block1_pool (MaxPooling2D)  (None, 104, 88, 64)       0         \n",
            "                                                                 \n",
            " block2_conv1 (Conv2D)       (None, 104, 88, 128)      73856     \n",
            "                                                                 \n",
            " block2_conv2 (Conv2D)       (None, 104, 88, 128)      147584    \n",
            "                                                                 \n",
            " block2_pool (MaxPooling2D)  (None, 52, 44, 128)       0         \n",
            "                                                                 \n",
            " block3_conv1 (Conv2D)       (None, 52, 44, 256)       295168    \n",
            "                                                                 \n",
            " block3_conv2 (Conv2D)       (None, 52, 44, 256)       590080    \n",
            "                                                                 \n",
            " block3_conv3 (Conv2D)       (None, 52, 44, 256)       590080    \n",
            "                                                                 \n",
            " block3_pool (MaxPooling2D)  (None, 26, 22, 256)       0         \n",
            "                                                                 \n",
            " block4_conv1 (Conv2D)       (None, 26, 22, 512)       1180160   \n",
            "                                                                 \n",
            " block4_conv2 (Conv2D)       (None, 26, 22, 512)       2359808   \n",
            "                                                                 \n",
            " block4_conv3 (Conv2D)       (None, 26, 22, 512)       2359808   \n",
            "                                                                 \n",
            " block4_pool (MaxPooling2D)  (None, 13, 11, 512)       0         \n",
            "                                                                 \n",
            " block5_conv1 (Conv2D)       (None, 13, 11, 512)       2359808   \n",
            "                                                                 \n",
            " block5_conv2 (Conv2D)       (None, 13, 11, 512)       2359808   \n",
            "                                                                 \n",
            " block5_conv3 (Conv2D)       (None, 13, 11, 512)       2359808   \n",
            "                                                                 \n",
            " block5_pool (MaxPooling2D)  (None, 6, 5, 512)         0         \n",
            "                                                                 \n",
            " global_average_pooling2d (G  (None, 512)              0         \n",
            " lobalAveragePooling2D)                                          \n",
            "                                                                 \n",
            " dropout (Dropout)           (None, 512)               0         \n",
            "                                                                 \n",
            " dense (Dense)               (None, 4)                 2052      \n",
            "                                                                 \n",
            "=================================================================\n",
            "Total params: 14,716,740\n",
            "Trainable params: 2,052\n",
            "Non-trainable params: 14,714,688\n",
            "_________________________________________________________________\n"
          ]
        }
      ],
      "source": [
        "model.summary()"
      ]
    },
    {
      "cell_type": "code",
      "execution_count": 23,
      "metadata": {
        "id": "F1KX_-XZYrtu"
      },
      "outputs": [],
      "source": [
        "# Callbacks\n",
        "import numpy as np\n",
        "from keras.callbacks import Callback\n",
        "\n",
        "checkpoint_cb = tf.keras.callbacks.ModelCheckpoint(\"/content/drive/MyDrive/MSBA/Fall 2021/Advanced Machine Learning/Alzheimer_s Dataset/train/resnet.h5\",\n",
        "                                                    save_best_only=True, monitor=\"val_loss\", mode='min')\n",
        "\n",
        "early_stopping_cb = tf.keras.callbacks.EarlyStopping(patience=100,\n",
        "                                                     restore_best_weights=True, monitor=\"val_loss\", mode='min')\n",
        "cb=[checkpoint_cb, early_stopping_cb]\n",
        "# using 2 callbacks; \n",
        "# save best selected model with least val_loss, \n",
        "# terminate training run if val_loss doesnt change for 100 epochs"
      ]
    },
    {
      "cell_type": "code",
      "execution_count": 24,
      "metadata": {
        "colab": {
          "base_uri": "https://localhost:8080/"
        },
        "id": "VdjmiLwIYrtu",
        "outputId": "4164b79c-d1c8-46f4-e666-4eb19076c555"
      },
      "outputs": [
        {
          "name": "stdout",
          "output_type": "stream",
          "text": [
            "48/48 [==============================] - 5s 50ms/step - loss: 1.2894 - auc: 0.5978 - f1: 0.1108 - acc: 0.1751 - categorical_crossentropy: 1.2894\n"
          ]
        },
        {
          "data": {
            "text/plain": [
              "[1.2894407510757446,\n",
              " 0.597769558429718,\n",
              " 0.11078440397977829,\n",
              " 0.1751302033662796,\n",
              " 1.2894407510757446]"
            ]
          },
          "execution_count": 24,
          "metadata": {},
          "output_type": "execute_result"
        }
      ],
      "source": [
        "# Validation scores before training\n",
        "model.evaluate(val_dataset)"
      ]
    },
    {
      "cell_type": "code",
      "execution_count": 25,
      "metadata": {
        "colab": {
          "base_uri": "https://localhost:8080/"
        },
        "id": "bMHgrneSYrtv",
        "outputId": "be47ef12-2f8e-4af0-801e-2eaca678c905"
      },
      "outputs": [
        {
          "data": {
            "text/plain": [
              "['loss', 'auc', 'f1', 'acc', 'categorical_crossentropy']"
            ]
          },
          "execution_count": 25,
          "metadata": {},
          "output_type": "execute_result"
        }
      ],
      "source": [
        "model.metrics_names"
      ]
    },
    {
      "cell_type": "code",
      "execution_count": 26,
      "metadata": {
        "colab": {
          "base_uri": "https://localhost:8080/"
        },
        "id": "FceNuTKVYrtv",
        "outputId": "0116447a-2150-43e8-b568-8771aa9fa5ec"
      },
      "outputs": [
        {
          "name": "stdout",
          "output_type": "stream",
          "text": [
            "Epoch 1/50\n",
            "113/113 [==============================] - 11s 86ms/step - loss: 1.4328 - auc: 0.6056 - f1: 0.3246 - acc: 0.2842 - categorical_crossentropy: 1.3375 - val_loss: 1.4213 - val_auc: 0.4622 - val_f1: 0.0439 - val_acc: 0.0332 - val_categorical_crossentropy: 1.4213\n",
            "Epoch 2/50\n",
            "113/113 [==============================] - 8s 72ms/step - loss: 1.3988 - auc: 0.5616 - f1: 0.3269 - acc: 0.2694 - categorical_crossentropy: 1.3802 - val_loss: 1.4544 - val_auc: 0.4763 - val_f1: 0.0320 - val_acc: 0.0267 - val_categorical_crossentropy: 1.4544\n",
            "Epoch 3/50\n",
            "113/113 [==============================] - 9s 79ms/step - loss: 1.3414 - auc: 0.6140 - f1: 0.3863 - acc: 0.3299 - categorical_crossentropy: 1.3429 - val_loss: 1.3840 - val_auc: 0.5516 - val_f1: 0.2978 - val_acc: 0.2096 - val_categorical_crossentropy: 1.3840\n",
            "Epoch 4/50\n",
            "113/113 [==============================] - 9s 74ms/step - loss: 1.3133 - auc: 0.6677 - f1: 0.4313 - acc: 0.3848 - categorical_crossentropy: 1.2984 - val_loss: 1.3106 - val_auc: 0.6891 - val_f1: 0.4863 - val_acc: 0.4154 - val_categorical_crossentropy: 1.3106\n",
            "Epoch 5/50\n",
            "113/113 [==============================] - 8s 73ms/step - loss: 1.3284 - auc: 0.5765 - f1: 0.3739 - acc: 0.3042 - categorical_crossentropy: 1.3971 - val_loss: 1.3429 - val_auc: 0.6164 - val_f1: 0.3484 - val_acc: 0.2839 - val_categorical_crossentropy: 1.3429\n",
            "Epoch 6/50\n",
            "113/113 [==============================] - 9s 78ms/step - loss: 1.2496 - auc: 0.7019 - f1: 0.4676 - acc: 0.4300 - categorical_crossentropy: 1.2684 - val_loss: 1.2791 - val_auc: 0.7014 - val_f1: 0.4562 - val_acc: 0.4010 - val_categorical_crossentropy: 1.2791\n",
            "Epoch 7/50\n",
            "113/113 [==============================] - 9s 74ms/step - loss: 1.2373 - auc: 0.7070 - f1: 0.4807 - acc: 0.4400 - categorical_crossentropy: 1.2610 - val_loss: 1.2744 - val_auc: 0.6950 - val_f1: 0.4281 - val_acc: 0.3874 - val_categorical_crossentropy: 1.2744\n",
            "Epoch 8/50\n",
            "113/113 [==============================] - 8s 73ms/step - loss: 1.2068 - auc: 0.7256 - f1: 0.4851 - acc: 0.4604 - categorical_crossentropy: 1.2372 - val_loss: 1.3200 - val_auc: 0.6397 - val_f1: 0.4062 - val_acc: 0.3307 - val_categorical_crossentropy: 1.3200\n",
            "Epoch 9/50\n",
            "113/113 [==============================] - 8s 72ms/step - loss: 1.2359 - auc: 0.6471 - f1: 0.4272 - acc: 0.3634 - categorical_crossentropy: 1.3153 - val_loss: 1.2833 - val_auc: 0.6733 - val_f1: 0.4042 - val_acc: 0.3529 - val_categorical_crossentropy: 1.2833\n",
            "Epoch 10/50\n",
            "113/113 [==============================] - 9s 77ms/step - loss: 1.1973 - auc: 0.7229 - f1: 0.5032 - acc: 0.4626 - categorical_crossentropy: 1.2321 - val_loss: 1.2566 - val_auc: 0.7034 - val_f1: 0.4510 - val_acc: 0.4043 - val_categorical_crossentropy: 1.2566\n",
            "Epoch 11/50\n",
            "113/113 [==============================] - 9s 75ms/step - loss: 1.1691 - auc: 0.7373 - f1: 0.5010 - acc: 0.4702 - categorical_crossentropy: 1.2138 - val_loss: 1.2152 - val_auc: 0.7453 - val_f1: 0.4911 - val_acc: 0.4668 - val_categorical_crossentropy: 1.2152\n",
            "Epoch 12/50\n",
            "113/113 [==============================] - 8s 72ms/step - loss: 1.1711 - auc: 0.7440 - f1: 0.5122 - acc: 0.4827 - categorical_crossentropy: 1.2034 - val_loss: 1.2326 - val_auc: 0.7182 - val_f1: 0.4516 - val_acc: 0.4219 - val_categorical_crossentropy: 1.2326\n",
            "Epoch 13/50\n",
            "113/113 [==============================] - 9s 79ms/step - loss: 1.1398 - auc: 0.7511 - f1: 0.5111 - acc: 0.4830 - categorical_crossentropy: 1.1892 - val_loss: 1.2064 - val_auc: 0.7424 - val_f1: 0.4836 - val_acc: 0.4557 - val_categorical_crossentropy: 1.2064\n",
            "Epoch 14/50\n",
            "113/113 [==============================] - 9s 74ms/step - loss: 1.1373 - auc: 0.7553 - f1: 0.5136 - acc: 0.4883 - categorical_crossentropy: 1.1821 - val_loss: 1.1711 - val_auc: 0.7766 - val_f1: 0.5099 - val_acc: 0.5085 - val_categorical_crossentropy: 1.1711\n",
            "Epoch 15/50\n",
            "113/113 [==============================] - 9s 78ms/step - loss: 1.1198 - auc: 0.7657 - f1: 0.5210 - acc: 0.5011 - categorical_crossentropy: 1.1665 - val_loss: 1.1616 - val_auc: 0.7790 - val_f1: 0.5320 - val_acc: 0.5059 - val_categorical_crossentropy: 1.1616\n",
            "Epoch 16/50\n",
            "113/113 [==============================] - 8s 72ms/step - loss: 1.1048 - auc: 0.7631 - f1: 0.5258 - acc: 0.4989 - categorical_crossentropy: 1.1681 - val_loss: 1.1938 - val_auc: 0.7526 - val_f1: 0.5368 - val_acc: 0.4863 - val_categorical_crossentropy: 1.1938\n",
            "Epoch 17/50\n",
            "113/113 [==============================] - 9s 77ms/step - loss: 1.0998 - auc: 0.7610 - f1: 0.5117 - acc: 0.4911 - categorical_crossentropy: 1.1660 - val_loss: 1.1551 - val_auc: 0.7840 - val_f1: 0.5522 - val_acc: 0.5241 - val_categorical_crossentropy: 1.1551\n",
            "Epoch 18/50\n",
            "113/113 [==============================] - 9s 78ms/step - loss: 1.0864 - auc: 0.7704 - f1: 0.5319 - acc: 0.5073 - categorical_crossentropy: 1.1532 - val_loss: 1.1537 - val_auc: 0.7760 - val_f1: 0.5207 - val_acc: 0.5072 - val_categorical_crossentropy: 1.1537\n",
            "Epoch 19/50\n",
            "113/113 [==============================] - 9s 76ms/step - loss: 1.0909 - auc: 0.7710 - f1: 0.5250 - acc: 0.5050 - categorical_crossentropy: 1.1470 - val_loss: 1.1529 - val_auc: 0.7790 - val_f1: 0.5396 - val_acc: 0.5117 - val_categorical_crossentropy: 1.1529\n",
            "Epoch 20/50\n",
            "113/113 [==============================] - 8s 71ms/step - loss: 1.0724 - auc: 0.7718 - f1: 0.5343 - acc: 0.5081 - categorical_crossentropy: 1.1442 - val_loss: 1.2093 - val_auc: 0.7253 - val_f1: 0.4902 - val_acc: 0.4382 - val_categorical_crossentropy: 1.2093\n",
            "Epoch 21/50\n",
            "113/113 [==============================] - 8s 72ms/step - loss: 1.0526 - auc: 0.7847 - f1: 0.5416 - acc: 0.5231 - categorical_crossentropy: 1.1218 - val_loss: 1.1751 - val_auc: 0.7501 - val_f1: 0.4991 - val_acc: 0.4674 - val_categorical_crossentropy: 1.1751\n",
            "Epoch 22/50\n",
            "113/113 [==============================] - 9s 78ms/step - loss: 1.0395 - auc: 0.7762 - f1: 0.5316 - acc: 0.5125 - categorical_crossentropy: 1.1327 - val_loss: 1.1129 - val_auc: 0.7971 - val_f1: 0.5401 - val_acc: 0.5215 - val_categorical_crossentropy: 1.1129\n",
            "Epoch 23/50\n",
            "113/113 [==============================] - 8s 72ms/step - loss: 1.0471 - auc: 0.7898 - f1: 0.5460 - acc: 0.5284 - categorical_crossentropy: 1.1094 - val_loss: 1.1383 - val_auc: 0.7780 - val_f1: 0.5456 - val_acc: 0.5046 - val_categorical_crossentropy: 1.1383\n",
            "Epoch 24/50\n",
            "113/113 [==============================] - 9s 76ms/step - loss: 1.0281 - auc: 0.7915 - f1: 0.5431 - acc: 0.5265 - categorical_crossentropy: 1.1038 - val_loss: 1.1091 - val_auc: 0.7993 - val_f1: 0.5605 - val_acc: 0.5397 - val_categorical_crossentropy: 1.1091\n",
            "Epoch 25/50\n",
            "113/113 [==============================] - 8s 72ms/step - loss: 1.0345 - auc: 0.7804 - f1: 0.5376 - acc: 0.5142 - categorical_crossentropy: 1.1199 - val_loss: 1.1230 - val_auc: 0.7854 - val_f1: 0.5436 - val_acc: 0.5182 - val_categorical_crossentropy: 1.1230\n",
            "Epoch 26/50\n",
            "113/113 [==============================] - 8s 71ms/step - loss: 1.0234 - auc: 0.7932 - f1: 0.5548 - acc: 0.5368 - categorical_crossentropy: 1.0950 - val_loss: 1.1094 - val_auc: 0.7940 - val_f1: 0.5588 - val_acc: 0.5306 - val_categorical_crossentropy: 1.1094\n",
            "Epoch 27/50\n",
            "113/113 [==============================] - 9s 78ms/step - loss: 1.0308 - auc: 0.7810 - f1: 0.5487 - acc: 0.5226 - categorical_crossentropy: 1.1130 - val_loss: 1.0997 - val_auc: 0.7998 - val_f1: 0.5537 - val_acc: 0.5410 - val_categorical_crossentropy: 1.0997\n",
            "Epoch 28/50\n",
            "113/113 [==============================] - 8s 71ms/step - loss: 1.0140 - auc: 0.7971 - f1: 0.5543 - acc: 0.5351 - categorical_crossentropy: 1.0852 - val_loss: 1.1342 - val_auc: 0.7758 - val_f1: 0.5508 - val_acc: 0.5085 - val_categorical_crossentropy: 1.1342\n",
            "Epoch 29/50\n",
            "113/113 [==============================] - 8s 72ms/step - loss: 1.0009 - auc: 0.8004 - f1: 0.5682 - acc: 0.5471 - categorical_crossentropy: 1.0812 - val_loss: 1.1192 - val_auc: 0.7835 - val_f1: 0.5449 - val_acc: 0.5104 - val_categorical_crossentropy: 1.1192\n",
            "Epoch 30/50\n",
            "113/113 [==============================] - 8s 72ms/step - loss: 1.0002 - auc: 0.7933 - f1: 0.5578 - acc: 0.5346 - categorical_crossentropy: 1.0928 - val_loss: 1.1044 - val_auc: 0.7953 - val_f1: 0.5690 - val_acc: 0.5345 - val_categorical_crossentropy: 1.1044\n",
            "Epoch 31/50\n",
            "113/113 [==============================] - 9s 79ms/step - loss: 0.9949 - auc: 0.8050 - f1: 0.5727 - acc: 0.5496 - categorical_crossentropy: 1.0708 - val_loss: 1.0988 - val_auc: 0.7947 - val_f1: 0.5542 - val_acc: 0.5286 - val_categorical_crossentropy: 1.0988\n",
            "Epoch 32/50\n",
            "113/113 [==============================] - 9s 75ms/step - loss: 0.9693 - auc: 0.8033 - f1: 0.5663 - acc: 0.5474 - categorical_crossentropy: 1.0691 - val_loss: 1.0684 - val_auc: 0.8163 - val_f1: 0.5814 - val_acc: 0.5632 - val_categorical_crossentropy: 1.0684\n",
            "Epoch 33/50\n",
            "113/113 [==============================] - 8s 72ms/step - loss: 0.9660 - auc: 0.8070 - f1: 0.5689 - acc: 0.5482 - categorical_crossentropy: 1.0627 - val_loss: 1.1125 - val_auc: 0.7828 - val_f1: 0.5325 - val_acc: 0.5169 - val_categorical_crossentropy: 1.1125\n",
            "Epoch 34/50\n",
            "113/113 [==============================] - 8s 72ms/step - loss: 0.9671 - auc: 0.8040 - f1: 0.5610 - acc: 0.5443 - categorical_crossentropy: 1.0618 - val_loss: 1.0868 - val_auc: 0.7960 - val_f1: 0.5356 - val_acc: 0.5247 - val_categorical_crossentropy: 1.0868\n",
            "Epoch 35/50\n",
            "113/113 [==============================] - 8s 72ms/step - loss: 0.9574 - auc: 0.8025 - f1: 0.5663 - acc: 0.5460 - categorical_crossentropy: 1.0660 - val_loss: 1.0910 - val_auc: 0.7975 - val_f1: 0.5591 - val_acc: 0.5312 - val_categorical_crossentropy: 1.0910\n",
            "Epoch 36/50\n",
            "113/113 [==============================] - 9s 77ms/step - loss: 0.9609 - auc: 0.8051 - f1: 0.5668 - acc: 0.5452 - categorical_crossentropy: 1.0592 - val_loss: 1.0427 - val_auc: 0.8203 - val_f1: 0.5621 - val_acc: 0.5547 - val_categorical_crossentropy: 1.0427\n",
            "Epoch 37/50\n",
            "113/113 [==============================] - 8s 71ms/step - loss: 0.9677 - auc: 0.8061 - f1: 0.5566 - acc: 0.5396 - categorical_crossentropy: 1.0561 - val_loss: 1.0742 - val_auc: 0.8018 - val_f1: 0.5496 - val_acc: 0.5273 - val_categorical_crossentropy: 1.0742\n",
            "Epoch 38/50\n",
            "113/113 [==============================] - 9s 77ms/step - loss: 0.9312 - auc: 0.8073 - f1: 0.5559 - acc: 0.5390 - categorical_crossentropy: 1.0513 - val_loss: 1.0409 - val_auc: 0.8253 - val_f1: 0.5899 - val_acc: 0.5742 - val_categorical_crossentropy: 1.0409\n",
            "Epoch 39/50\n",
            "113/113 [==============================] - 9s 78ms/step - loss: 0.9312 - auc: 0.8176 - f1: 0.5663 - acc: 0.5499 - categorical_crossentropy: 1.0331 - val_loss: 1.0217 - val_auc: 0.8324 - val_f1: 0.5888 - val_acc: 0.5781 - val_categorical_crossentropy: 1.0217\n",
            "Epoch 40/50\n",
            "113/113 [==============================] - 8s 72ms/step - loss: 0.9387 - auc: 0.8078 - f1: 0.5629 - acc: 0.5435 - categorical_crossentropy: 1.0482 - val_loss: 1.0335 - val_auc: 0.8261 - val_f1: 0.5847 - val_acc: 0.5710 - val_categorical_crossentropy: 1.0335\n",
            "Epoch 41/50\n",
            "113/113 [==============================] - 8s 72ms/step - loss: 0.9344 - auc: 0.8152 - f1: 0.5730 - acc: 0.5563 - categorical_crossentropy: 1.0353 - val_loss: 1.0538 - val_auc: 0.8156 - val_f1: 0.5821 - val_acc: 0.5566 - val_categorical_crossentropy: 1.0538\n",
            "Epoch 42/50\n",
            "113/113 [==============================] - 8s 72ms/step - loss: 0.9153 - auc: 0.8138 - f1: 0.5705 - acc: 0.5544 - categorical_crossentropy: 1.0360 - val_loss: 1.0366 - val_auc: 0.8254 - val_f1: 0.5984 - val_acc: 0.5768 - val_categorical_crossentropy: 1.0366\n",
            "Epoch 43/50\n",
            "113/113 [==============================] - 8s 72ms/step - loss: 0.9237 - auc: 0.8157 - f1: 0.5784 - acc: 0.5602 - categorical_crossentropy: 1.0309 - val_loss: 1.0322 - val_auc: 0.8244 - val_f1: 0.5788 - val_acc: 0.5625 - val_categorical_crossentropy: 1.0322\n",
            "Epoch 44/50\n",
            "113/113 [==============================] - 9s 78ms/step - loss: 0.9102 - auc: 0.8161 - f1: 0.5760 - acc: 0.5583 - categorical_crossentropy: 1.0268 - val_loss: 1.0191 - val_auc: 0.8312 - val_f1: 0.5853 - val_acc: 0.5742 - val_categorical_crossentropy: 1.0191\n",
            "Epoch 45/50\n",
            "113/113 [==============================] - 8s 73ms/step - loss: 0.9077 - auc: 0.8182 - f1: 0.5765 - acc: 0.5608 - categorical_crossentropy: 1.0246 - val_loss: 1.0134 - val_auc: 0.8345 - val_f1: 0.5966 - val_acc: 0.5794 - val_categorical_crossentropy: 1.0134\n",
            "Epoch 46/50\n",
            "113/113 [==============================] - 9s 77ms/step - loss: 0.9095 - auc: 0.8186 - f1: 0.5780 - acc: 0.5616 - categorical_crossentropy: 1.0224 - val_loss: 1.0096 - val_auc: 0.8341 - val_f1: 0.5943 - val_acc: 0.5794 - val_categorical_crossentropy: 1.0096\n",
            "Epoch 47/50\n",
            "113/113 [==============================] - 9s 74ms/step - loss: 0.9096 - auc: 0.8219 - f1: 0.5748 - acc: 0.5600 - categorical_crossentropy: 1.0149 - val_loss: 1.0050 - val_auc: 0.8377 - val_f1: 0.6124 - val_acc: 0.5951 - val_categorical_crossentropy: 1.0050\n",
            "Epoch 48/50\n",
            "113/113 [==============================] - 9s 78ms/step - loss: 0.8921 - auc: 0.8199 - f1: 0.5754 - acc: 0.5597 - categorical_crossentropy: 1.0169 - val_loss: 0.9880 - val_auc: 0.8439 - val_f1: 0.6009 - val_acc: 0.5898 - val_categorical_crossentropy: 0.9880\n",
            "Epoch 49/50\n",
            "113/113 [==============================] - 8s 72ms/step - loss: 0.8850 - auc: 0.8304 - f1: 0.5910 - acc: 0.5764 - categorical_crossentropy: 0.9941 - val_loss: 1.0273 - val_auc: 0.8245 - val_f1: 0.5861 - val_acc: 0.5671 - val_categorical_crossentropy: 1.0273\n",
            "Epoch 50/50\n",
            "113/113 [==============================] - 9s 78ms/step - loss: 0.9413 - auc: 0.7905 - f1: 0.5591 - acc: 0.5270 - categorical_crossentropy: 1.0737 - val_loss: 0.9828 - val_auc: 0.8454 - val_f1: 0.6082 - val_acc: 0.5951 - val_categorical_crossentropy: 0.9828\n"
          ]
        }
      ],
      "source": [
        "# run_1 (training classification head after feature extraction)\n",
        "history1 = model.fit(train_dataset,\n",
        "                    # steps_per_epoch=10,\n",
        "                    epochs=50,\n",
        "                    validation_data=val_dataset, verbose=1, callbacks=cb,\n",
        "                    class_weight={\n",
        "                                    0: class_weights[0],\n",
        "                                    1: class_weights[1],\n",
        "                                    2: class_weights[2],\n",
        "                                    3: class_weights[3]\n",
        "                                  })"
      ]
    },
    {
      "cell_type": "code",
      "execution_count": 27,
      "metadata": {
        "colab": {
          "base_uri": "https://localhost:8080/"
        },
        "id": "J7O1YgwqYrtx",
        "outputId": "92b656f6-5f4a-4a3e-87fe-291740882d7d"
      },
      "outputs": [
        {
          "name": "stdout",
          "output_type": "stream",
          "text": [
            "Number of layers in the base model:  19\n"
          ]
        }
      ],
      "source": [
        "base_model.trainable = True\n",
        "print(\"Number of layers in the base model: \", len(base_model.layers))"
      ]
    },
    {
      "cell_type": "code",
      "execution_count": 27,
      "metadata": {
        "id": "5RQwfHdmYrtx"
      },
      "outputs": [],
      "source": []
    },
    {
      "cell_type": "code",
      "execution_count": 28,
      "metadata": {
        "colab": {
          "base_uri": "https://localhost:8080/"
        },
        "id": "SnmeLG5vYrty",
        "outputId": "1cfca134-7fd9-45a5-899b-89804c2dae21"
      },
      "outputs": [
        {
          "name": "stdout",
          "output_type": "stream",
          "text": [
            "Model: \"sequential\"\n",
            "_________________________________________________________________\n",
            " Layer (type)                Output Shape              Param #   \n",
            "=================================================================\n",
            " rescaling (Rescaling)       (None, 208, 176, 3)       0         \n",
            "                                                                 \n",
            " input_1 (InputLayer)        multiple                  0         \n",
            "                                                                 \n",
            " block1_conv1 (Conv2D)       (None, 208, 176, 64)      1792      \n",
            "                                                                 \n",
            " block1_conv2 (Conv2D)       (None, 208, 176, 64)      36928     \n",
            "                                                                 \n",
            " block1_pool (MaxPooling2D)  (None, 104, 88, 64)       0         \n",
            "                                                                 \n",
            " block2_conv1 (Conv2D)       (None, 104, 88, 128)      73856     \n",
            "                                                                 \n",
            " block2_conv2 (Conv2D)       (None, 104, 88, 128)      147584    \n",
            "                                                                 \n",
            " block2_pool (MaxPooling2D)  (None, 52, 44, 128)       0         \n",
            "                                                                 \n",
            " block3_conv1 (Conv2D)       (None, 52, 44, 256)       295168    \n",
            "                                                                 \n",
            " block3_conv2 (Conv2D)       (None, 52, 44, 256)       590080    \n",
            "                                                                 \n",
            " block3_conv3 (Conv2D)       (None, 52, 44, 256)       590080    \n",
            "                                                                 \n",
            " block3_pool (MaxPooling2D)  (None, 26, 22, 256)       0         \n",
            "                                                                 \n",
            " block4_conv1 (Conv2D)       (None, 26, 22, 512)       1180160   \n",
            "                                                                 \n",
            " block4_conv2 (Conv2D)       (None, 26, 22, 512)       2359808   \n",
            "                                                                 \n",
            " block4_conv3 (Conv2D)       (None, 26, 22, 512)       2359808   \n",
            "                                                                 \n",
            " block4_pool (MaxPooling2D)  (None, 13, 11, 512)       0         \n",
            "                                                                 \n",
            " block5_conv1 (Conv2D)       (None, 13, 11, 512)       2359808   \n",
            "                                                                 \n",
            " block5_conv2 (Conv2D)       (None, 13, 11, 512)       2359808   \n",
            "                                                                 \n",
            " block5_conv3 (Conv2D)       (None, 13, 11, 512)       2359808   \n",
            "                                                                 \n",
            " block5_pool (MaxPooling2D)  (None, 6, 5, 512)         0         \n",
            "                                                                 \n",
            " global_average_pooling2d (G  (None, 512)              0         \n",
            " lobalAveragePooling2D)                                          \n",
            "                                                                 \n",
            " dropout (Dropout)           (None, 512)               0         \n",
            "                                                                 \n",
            " dense (Dense)               (None, 4)                 2052      \n",
            "                                                                 \n",
            "=================================================================\n",
            "Total params: 14,716,740\n",
            "Trainable params: 11,801,092\n",
            "Non-trainable params: 2,915,648\n",
            "_________________________________________________________________\n"
          ]
        }
      ],
      "source": [
        "# Fine-tune from this layer onwards\n",
        "fine_tune_at = int(len(base_model.layers)*0.65)\n",
        "\n",
        "# Freezing all the layers before the `fine_tune_at` layer\n",
        "for layer in base_model.layers[:fine_tune_at]:\n",
        "  layer.trainable =  False\n",
        "\n",
        "# 65% layers are set trainable in bottom up manner from classification head\n",
        "model.compile(loss='categorical_crossentropy', optimizer=\"adadelta\", metrics=[AUC(name=\"auc\"),\n",
        "                                                                            tfa.metrics.F1Score(name=\"f1\", num_classes=4,\n",
        "                                                                            average=\"weighted\"),\n",
        "                                                                            CategoricalAccuracy(name=\"acc\"),\n",
        "                                                                            CategoricalCrossentropy(name=\"categorical_crossentropy\")\n",
        "                                                                            ])\n",
        "model.summary()"
      ]
    },
    {
      "cell_type": "code",
      "execution_count": 29,
      "metadata": {
        "colab": {
          "base_uri": "https://localhost:8080/"
        },
        "id": "LE3G1hahYrty",
        "outputId": "1611a81c-01cc-4291-84d0-486227fa293a"
      },
      "outputs": [
        {
          "name": "stdout",
          "output_type": "stream",
          "text": [
            "48/48 [==============================] - 3s 50ms/step - loss: 0.9828 - auc: 0.8454 - f1: 0.6082 - acc: 0.5951 - categorical_crossentropy: 0.9828\n"
          ]
        },
        {
          "data": {
            "text/plain": [
              "[0.9828157424926758,\n",
              " 0.8454132080078125,\n",
              " 0.608213484287262,\n",
              " 0.5950520634651184,\n",
              " 0.9828157424926758]"
            ]
          },
          "execution_count": 29,
          "metadata": {},
          "output_type": "execute_result"
        }
      ],
      "source": [
        "# validation scores before training\n",
        "model.evaluate(val_dataset)"
      ]
    },
    {
      "cell_type": "code",
      "execution_count": 30,
      "metadata": {
        "colab": {
          "base_uri": "https://localhost:8080/"
        },
        "id": "FWhBYCG6Yrty",
        "outputId": "50cd0cc0-b172-4267-da6f-907d4ff4dce3"
      },
      "outputs": [
        {
          "data": {
            "text/plain": [
              "['loss', 'auc', 'f1', 'acc', 'categorical_crossentropy']"
            ]
          },
          "execution_count": 30,
          "metadata": {},
          "output_type": "execute_result"
        }
      ],
      "source": [
        "model.metrics_names"
      ]
    },
    {
      "cell_type": "code",
      "execution_count": 31,
      "metadata": {
        "colab": {
          "base_uri": "https://localhost:8080/"
        },
        "id": "SihhTnyuYrtz",
        "outputId": "0c4b035b-21e2-4b50-8a3a-e231f6d46367"
      },
      "outputs": [
        {
          "name": "stdout",
          "output_type": "stream",
          "text": [
            "Epoch 1/200\n",
            "113/113 [==============================] - 13s 103ms/step - loss: 0.8682 - auc: 0.8391 - f1: 0.5872 - acc: 0.5753 - categorical_crossentropy: 0.9578 - val_loss: 0.9187 - val_auc: 0.8573 - val_f1: 0.6039 - val_acc: 0.6003 - val_categorical_crossentropy: 0.9187\n",
            "Epoch 2/200\n",
            "113/113 [==============================] - 11s 95ms/step - loss: 0.7911 - auc: 0.8449 - f1: 0.6005 - acc: 0.5912 - categorical_crossentropy: 0.9296 - val_loss: 0.9518 - val_auc: 0.8431 - val_f1: 0.6093 - val_acc: 0.5970 - val_categorical_crossentropy: 0.9518\n",
            "Epoch 3/200\n",
            "113/113 [==============================] - 12s 108ms/step - loss: 0.7453 - auc: 0.8535 - f1: 0.6073 - acc: 0.5979 - categorical_crossentropy: 0.9046 - val_loss: 0.8551 - val_auc: 0.8712 - val_f1: 0.6089 - val_acc: 0.6120 - val_categorical_crossentropy: 0.8551\n",
            "Epoch 4/200\n",
            "113/113 [==============================] - 12s 106ms/step - loss: 0.7477 - auc: 0.8535 - f1: 0.6066 - acc: 0.5990 - categorical_crossentropy: 0.9006 - val_loss: 0.8438 - val_auc: 0.8736 - val_f1: 0.6224 - val_acc: 0.6230 - val_categorical_crossentropy: 0.8438\n",
            "Epoch 5/200\n",
            "113/113 [==============================] - 11s 95ms/step - loss: 0.7027 - auc: 0.8623 - f1: 0.6157 - acc: 0.6076 - categorical_crossentropy: 0.8722 - val_loss: 0.8445 - val_auc: 0.8732 - val_f1: 0.6400 - val_acc: 0.6341 - val_categorical_crossentropy: 0.8445\n",
            "Epoch 6/200\n",
            "113/113 [==============================] - 13s 110ms/step - loss: 0.6892 - auc: 0.8654 - f1: 0.6266 - acc: 0.6177 - categorical_crossentropy: 0.8628 - val_loss: 0.8062 - val_auc: 0.8832 - val_f1: 0.6273 - val_acc: 0.6296 - val_categorical_crossentropy: 0.8062\n",
            "Epoch 7/200\n",
            "113/113 [==============================] - 11s 99ms/step - loss: 0.6721 - auc: 0.8715 - f1: 0.6285 - acc: 0.6207 - categorical_crossentropy: 0.8409 - val_loss: 0.7999 - val_auc: 0.8849 - val_f1: 0.6436 - val_acc: 0.6413 - val_categorical_crossentropy: 0.7999\n",
            "Epoch 8/200\n",
            "113/113 [==============================] - 11s 99ms/step - loss: 0.6497 - auc: 0.8752 - f1: 0.6397 - acc: 0.6311 - categorical_crossentropy: 0.8283 - val_loss: 0.7825 - val_auc: 0.8900 - val_f1: 0.6511 - val_acc: 0.6491 - val_categorical_crossentropy: 0.7825\n",
            "Epoch 9/200\n",
            "113/113 [==============================] - 11s 94ms/step - loss: 0.6457 - auc: 0.8756 - f1: 0.6350 - acc: 0.6260 - categorical_crossentropy: 0.8265 - val_loss: 0.8073 - val_auc: 0.8828 - val_f1: 0.6453 - val_acc: 0.6419 - val_categorical_crossentropy: 0.8073\n",
            "Epoch 10/200\n",
            "113/113 [==============================] - 12s 106ms/step - loss: 0.6268 - auc: 0.8784 - f1: 0.6353 - acc: 0.6291 - categorical_crossentropy: 0.8138 - val_loss: 0.7643 - val_auc: 0.8950 - val_f1: 0.6534 - val_acc: 0.6549 - val_categorical_crossentropy: 0.7643\n",
            "Epoch 11/200\n",
            "113/113 [==============================] - 11s 98ms/step - loss: 0.6206 - auc: 0.8834 - f1: 0.6440 - acc: 0.6369 - categorical_crossentropy: 0.7985 - val_loss: 0.7429 - val_auc: 0.9003 - val_f1: 0.6640 - val_acc: 0.6634 - val_categorical_crossentropy: 0.7429\n",
            "Epoch 12/200\n",
            "113/113 [==============================] - 11s 99ms/step - loss: 0.6045 - auc: 0.8871 - f1: 0.6581 - acc: 0.6520 - categorical_crossentropy: 0.7864 - val_loss: 0.7393 - val_auc: 0.9017 - val_f1: 0.6717 - val_acc: 0.6706 - val_categorical_crossentropy: 0.7393\n",
            "Epoch 13/200\n",
            "113/113 [==============================] - 11s 99ms/step - loss: 0.5827 - auc: 0.8931 - f1: 0.6553 - acc: 0.6497 - categorical_crossentropy: 0.7657 - val_loss: 0.7131 - val_auc: 0.9065 - val_f1: 0.6680 - val_acc: 0.6706 - val_categorical_crossentropy: 0.7131\n",
            "Epoch 14/200\n",
            "113/113 [==============================] - 11s 99ms/step - loss: 0.5723 - auc: 0.8984 - f1: 0.6766 - acc: 0.6704 - categorical_crossentropy: 0.7469 - val_loss: 0.7113 - val_auc: 0.9081 - val_f1: 0.6775 - val_acc: 0.6790 - val_categorical_crossentropy: 0.7113\n",
            "Epoch 15/200\n",
            "113/113 [==============================] - 11s 95ms/step - loss: 0.5570 - auc: 0.9001 - f1: 0.6730 - acc: 0.6679 - categorical_crossentropy: 0.7368 - val_loss: 0.7840 - val_auc: 0.8873 - val_f1: 0.6614 - val_acc: 0.6523 - val_categorical_crossentropy: 0.7840\n",
            "Epoch 16/200\n",
            "113/113 [==============================] - 12s 106ms/step - loss: 0.5431 - auc: 0.9044 - f1: 0.6844 - acc: 0.6796 - categorical_crossentropy: 0.7267 - val_loss: 0.6890 - val_auc: 0.9151 - val_f1: 0.6998 - val_acc: 0.6986 - val_categorical_crossentropy: 0.6890\n",
            "Epoch 17/200\n",
            "113/113 [==============================] - 11s 99ms/step - loss: 0.5295 - auc: 0.9102 - f1: 0.6935 - acc: 0.6880 - categorical_crossentropy: 0.7026 - val_loss: 0.6838 - val_auc: 0.9153 - val_f1: 0.6916 - val_acc: 0.6934 - val_categorical_crossentropy: 0.6838\n",
            "Epoch 18/200\n",
            "113/113 [==============================] - 11s 99ms/step - loss: 0.5281 - auc: 0.9107 - f1: 0.6938 - acc: 0.6888 - categorical_crossentropy: 0.7021 - val_loss: 0.6686 - val_auc: 0.9186 - val_f1: 0.6980 - val_acc: 0.7012 - val_categorical_crossentropy: 0.6686\n",
            "Epoch 19/200\n",
            "113/113 [==============================] - 11s 99ms/step - loss: 0.5076 - auc: 0.9180 - f1: 0.7059 - acc: 0.7022 - categorical_crossentropy: 0.6754 - val_loss: 0.6579 - val_auc: 0.9216 - val_f1: 0.7051 - val_acc: 0.7064 - val_categorical_crossentropy: 0.6579\n",
            "Epoch 20/200\n",
            "113/113 [==============================] - 11s 94ms/step - loss: 0.5017 - auc: 0.9179 - f1: 0.7076 - acc: 0.7033 - categorical_crossentropy: 0.6727 - val_loss: 0.6670 - val_auc: 0.9205 - val_f1: 0.7122 - val_acc: 0.7103 - val_categorical_crossentropy: 0.6670\n",
            "Epoch 21/200\n",
            "113/113 [==============================] - 11s 94ms/step - loss: 0.4933 - auc: 0.9212 - f1: 0.7196 - acc: 0.7158 - categorical_crossentropy: 0.6621 - val_loss: 0.6662 - val_auc: 0.9207 - val_f1: 0.7142 - val_acc: 0.7116 - val_categorical_crossentropy: 0.6662\n",
            "Epoch 22/200\n",
            "113/113 [==============================] - 12s 108ms/step - loss: 0.4805 - auc: 0.9246 - f1: 0.7173 - acc: 0.7136 - categorical_crossentropy: 0.6479 - val_loss: 0.6306 - val_auc: 0.9295 - val_f1: 0.7282 - val_acc: 0.7266 - val_categorical_crossentropy: 0.6306\n",
            "Epoch 23/200\n",
            "113/113 [==============================] - 11s 99ms/step - loss: 0.4716 - auc: 0.9259 - f1: 0.7209 - acc: 0.7172 - categorical_crossentropy: 0.6406 - val_loss: 0.6223 - val_auc: 0.9317 - val_f1: 0.7337 - val_acc: 0.7318 - val_categorical_crossentropy: 0.6223\n",
            "Epoch 24/200\n",
            "113/113 [==============================] - 12s 107ms/step - loss: 0.4574 - auc: 0.9308 - f1: 0.7394 - acc: 0.7365 - categorical_crossentropy: 0.6234 - val_loss: 0.6164 - val_auc: 0.9295 - val_f1: 0.7141 - val_acc: 0.7214 - val_categorical_crossentropy: 0.6164\n",
            "Epoch 25/200\n",
            "113/113 [==============================] - 11s 99ms/step - loss: 0.4534 - auc: 0.9332 - f1: 0.7355 - acc: 0.7328 - categorical_crossentropy: 0.6120 - val_loss: 0.6102 - val_auc: 0.9342 - val_f1: 0.7412 - val_acc: 0.7383 - val_categorical_crossentropy: 0.6102\n",
            "Epoch 26/200\n",
            "113/113 [==============================] - 11s 94ms/step - loss: 0.4338 - auc: 0.9371 - f1: 0.7544 - acc: 0.7521 - categorical_crossentropy: 0.5948 - val_loss: 0.6967 - val_auc: 0.9123 - val_f1: 0.7076 - val_acc: 0.6986 - val_categorical_crossentropy: 0.6967\n",
            "Epoch 27/200\n",
            "113/113 [==============================] - 11s 94ms/step - loss: 0.4244 - auc: 0.9392 - f1: 0.7504 - acc: 0.7479 - categorical_crossentropy: 0.5867 - val_loss: 0.6476 - val_auc: 0.9237 - val_f1: 0.7368 - val_acc: 0.7344 - val_categorical_crossentropy: 0.6476\n",
            "Epoch 28/200\n",
            "113/113 [==============================] - 12s 107ms/step - loss: 0.4165 - auc: 0.9409 - f1: 0.7599 - acc: 0.7577 - categorical_crossentropy: 0.5765 - val_loss: 0.5892 - val_auc: 0.9378 - val_f1: 0.7507 - val_acc: 0.7480 - val_categorical_crossentropy: 0.5892\n",
            "Epoch 29/200\n",
            "113/113 [==============================] - 11s 99ms/step - loss: 0.4124 - auc: 0.9432 - f1: 0.7632 - acc: 0.7610 - categorical_crossentropy: 0.5676 - val_loss: 0.5598 - val_auc: 0.9445 - val_f1: 0.7579 - val_acc: 0.7585 - val_categorical_crossentropy: 0.5598\n",
            "Epoch 30/200\n",
            "113/113 [==============================] - 11s 100ms/step - loss: 0.3964 - auc: 0.9471 - f1: 0.7720 - acc: 0.7702 - categorical_crossentropy: 0.5489 - val_loss: 0.5511 - val_auc: 0.9468 - val_f1: 0.7639 - val_acc: 0.7630 - val_categorical_crossentropy: 0.5511\n",
            "Epoch 31/200\n",
            "113/113 [==============================] - 11s 100ms/step - loss: 0.3903 - auc: 0.9495 - f1: 0.7747 - acc: 0.7730 - categorical_crossentropy: 0.5380 - val_loss: 0.5420 - val_auc: 0.9473 - val_f1: 0.7653 - val_acc: 0.7663 - val_categorical_crossentropy: 0.5420\n",
            "Epoch 32/200\n",
            "113/113 [==============================] - 11s 99ms/step - loss: 0.3868 - auc: 0.9511 - f1: 0.7877 - acc: 0.7861 - categorical_crossentropy: 0.5290 - val_loss: 0.5347 - val_auc: 0.9498 - val_f1: 0.7759 - val_acc: 0.7747 - val_categorical_crossentropy: 0.5347\n",
            "Epoch 33/200\n",
            "113/113 [==============================] - 11s 95ms/step - loss: 0.3725 - auc: 0.9537 - f1: 0.7811 - acc: 0.7797 - categorical_crossentropy: 0.5178 - val_loss: 0.5421 - val_auc: 0.9457 - val_f1: 0.7583 - val_acc: 0.7637 - val_categorical_crossentropy: 0.5421\n",
            "Epoch 34/200\n",
            "113/113 [==============================] - 12s 106ms/step - loss: 0.3548 - auc: 0.9577 - f1: 0.7995 - acc: 0.7984 - categorical_crossentropy: 0.4952 - val_loss: 0.5275 - val_auc: 0.9495 - val_f1: 0.7690 - val_acc: 0.7741 - val_categorical_crossentropy: 0.5275\n",
            "Epoch 35/200\n",
            "113/113 [==============================] - 11s 100ms/step - loss: 0.3519 - auc: 0.9586 - f1: 0.7995 - acc: 0.7987 - categorical_crossentropy: 0.4910 - val_loss: 0.5162 - val_auc: 0.9523 - val_f1: 0.7742 - val_acc: 0.7754 - val_categorical_crossentropy: 0.5162\n",
            "Epoch 36/200\n",
            "113/113 [==============================] - 11s 95ms/step - loss: 0.3442 - auc: 0.9611 - f1: 0.8097 - acc: 0.8084 - categorical_crossentropy: 0.4780 - val_loss: 0.5310 - val_auc: 0.9504 - val_f1: 0.7834 - val_acc: 0.7812 - val_categorical_crossentropy: 0.5310\n",
            "Epoch 37/200\n",
            "113/113 [==============================] - 12s 108ms/step - loss: 0.3333 - auc: 0.9629 - f1: 0.8132 - acc: 0.8123 - categorical_crossentropy: 0.4685 - val_loss: 0.4986 - val_auc: 0.9559 - val_f1: 0.7968 - val_acc: 0.7949 - val_categorical_crossentropy: 0.4986\n",
            "Epoch 38/200\n",
            "113/113 [==============================] - 11s 100ms/step - loss: 0.3288 - auc: 0.9635 - f1: 0.8209 - acc: 0.8201 - categorical_crossentropy: 0.4637 - val_loss: 0.4836 - val_auc: 0.9590 - val_f1: 0.8001 - val_acc: 0.7995 - val_categorical_crossentropy: 0.4836\n",
            "Epoch 39/200\n",
            "113/113 [==============================] - 11s 100ms/step - loss: 0.3197 - auc: 0.9654 - f1: 0.8176 - acc: 0.8168 - categorical_crossentropy: 0.4514 - val_loss: 0.4741 - val_auc: 0.9607 - val_f1: 0.8030 - val_acc: 0.8027 - val_categorical_crossentropy: 0.4741\n",
            "Epoch 40/200\n",
            "113/113 [==============================] - 11s 95ms/step - loss: 0.3182 - auc: 0.9657 - f1: 0.8176 - acc: 0.8168 - categorical_crossentropy: 0.4482 - val_loss: 0.5519 - val_auc: 0.9447 - val_f1: 0.7732 - val_acc: 0.7721 - val_categorical_crossentropy: 0.5519\n",
            "Epoch 41/200\n",
            "113/113 [==============================] - 11s 96ms/step - loss: 0.3062 - auc: 0.9672 - f1: 0.8215 - acc: 0.8207 - categorical_crossentropy: 0.4386 - val_loss: 0.5141 - val_auc: 0.9519 - val_f1: 0.7921 - val_acc: 0.7904 - val_categorical_crossentropy: 0.5141\n",
            "Epoch 42/200\n",
            "113/113 [==============================] - 11s 95ms/step - loss: 0.2991 - auc: 0.9694 - f1: 0.8417 - acc: 0.8410 - categorical_crossentropy: 0.4265 - val_loss: 0.4965 - val_auc: 0.9553 - val_f1: 0.7978 - val_acc: 0.7956 - val_categorical_crossentropy: 0.4965\n",
            "Epoch 43/200\n",
            "113/113 [==============================] - 12s 108ms/step - loss: 0.2913 - auc: 0.9714 - f1: 0.8359 - acc: 0.8355 - categorical_crossentropy: 0.4158 - val_loss: 0.4690 - val_auc: 0.9626 - val_f1: 0.8089 - val_acc: 0.8079 - val_categorical_crossentropy: 0.4690\n",
            "Epoch 44/200\n",
            "113/113 [==============================] - 12s 106ms/step - loss: 0.2935 - auc: 0.9707 - f1: 0.8349 - acc: 0.8344 - categorical_crossentropy: 0.4176 - val_loss: 0.4459 - val_auc: 0.9650 - val_f1: 0.8129 - val_acc: 0.8145 - val_categorical_crossentropy: 0.4459\n",
            "Epoch 45/200\n",
            "113/113 [==============================] - 11s 95ms/step - loss: 0.2815 - auc: 0.9743 - f1: 0.8463 - acc: 0.8458 - categorical_crossentropy: 0.3970 - val_loss: 0.5147 - val_auc: 0.9534 - val_f1: 0.7892 - val_acc: 0.7858 - val_categorical_crossentropy: 0.5147\n",
            "Epoch 46/200\n",
            "113/113 [==============================] - 12s 108ms/step - loss: 0.2667 - auc: 0.9765 - f1: 0.8554 - acc: 0.8553 - categorical_crossentropy: 0.3819 - val_loss: 0.4441 - val_auc: 0.9644 - val_f1: 0.8164 - val_acc: 0.8171 - val_categorical_crossentropy: 0.4441\n",
            "Epoch 47/200\n",
            "113/113 [==============================] - 11s 95ms/step - loss: 0.2619 - auc: 0.9773 - f1: 0.8553 - acc: 0.8550 - categorical_crossentropy: 0.3746 - val_loss: 0.5249 - val_auc: 0.9492 - val_f1: 0.7735 - val_acc: 0.7734 - val_categorical_crossentropy: 0.5249\n",
            "Epoch 48/200\n",
            "113/113 [==============================] - 12s 107ms/step - loss: 0.2652 - auc: 0.9765 - f1: 0.8559 - acc: 0.8553 - categorical_crossentropy: 0.3786 - val_loss: 0.4154 - val_auc: 0.9701 - val_f1: 0.8302 - val_acc: 0.8301 - val_categorical_crossentropy: 0.4154\n",
            "Epoch 49/200\n",
            "113/113 [==============================] - 11s 98ms/step - loss: 0.2487 - auc: 0.9790 - f1: 0.8672 - acc: 0.8670 - categorical_crossentropy: 0.3609 - val_loss: 0.4084 - val_auc: 0.9713 - val_f1: 0.8356 - val_acc: 0.8346 - val_categorical_crossentropy: 0.4084\n",
            "Epoch 50/200\n",
            "113/113 [==============================] - 11s 95ms/step - loss: 0.2482 - auc: 0.9798 - f1: 0.8675 - acc: 0.8670 - categorical_crossentropy: 0.3564 - val_loss: 0.4316 - val_auc: 0.9672 - val_f1: 0.8277 - val_acc: 0.8262 - val_categorical_crossentropy: 0.4316\n",
            "Epoch 51/200\n",
            "113/113 [==============================] - 11s 95ms/step - loss: 0.2498 - auc: 0.9791 - f1: 0.8699 - acc: 0.8698 - categorical_crossentropy: 0.3605 - val_loss: 0.4443 - val_auc: 0.9656 - val_f1: 0.8282 - val_acc: 0.8268 - val_categorical_crossentropy: 0.4443\n",
            "Epoch 52/200\n",
            "113/113 [==============================] - 12s 109ms/step - loss: 0.2357 - auc: 0.9815 - f1: 0.8696 - acc: 0.8695 - categorical_crossentropy: 0.3411 - val_loss: 0.3978 - val_auc: 0.9720 - val_f1: 0.8476 - val_acc: 0.8464 - val_categorical_crossentropy: 0.3978\n",
            "Epoch 53/200\n",
            "113/113 [==============================] - 12s 104ms/step - loss: 0.2311 - auc: 0.9821 - f1: 0.8722 - acc: 0.8720 - categorical_crossentropy: 0.3346 - val_loss: 0.3935 - val_auc: 0.9743 - val_f1: 0.8448 - val_acc: 0.8444 - val_categorical_crossentropy: 0.3935\n",
            "Epoch 54/200\n",
            "113/113 [==============================] - 11s 99ms/step - loss: 0.2272 - auc: 0.9830 - f1: 0.8782 - acc: 0.8781 - categorical_crossentropy: 0.3289 - val_loss: 0.3921 - val_auc: 0.9727 - val_f1: 0.8440 - val_acc: 0.8451 - val_categorical_crossentropy: 0.3921\n",
            "Epoch 55/200\n",
            "113/113 [==============================] - 11s 95ms/step - loss: 0.2212 - auc: 0.9833 - f1: 0.8787 - acc: 0.8787 - categorical_crossentropy: 0.3227 - val_loss: 0.3953 - val_auc: 0.9718 - val_f1: 0.8443 - val_acc: 0.8424 - val_categorical_crossentropy: 0.3953\n",
            "Epoch 56/200\n",
            "113/113 [==============================] - 12s 106ms/step - loss: 0.2134 - auc: 0.9846 - f1: 0.8889 - acc: 0.8887 - categorical_crossentropy: 0.3135 - val_loss: 0.3589 - val_auc: 0.9785 - val_f1: 0.8572 - val_acc: 0.8574 - val_categorical_crossentropy: 0.3589\n",
            "Epoch 57/200\n",
            "113/113 [==============================] - 11s 99ms/step - loss: 0.2099 - auc: 0.9850 - f1: 0.8806 - acc: 0.8806 - categorical_crossentropy: 0.3081 - val_loss: 0.3534 - val_auc: 0.9793 - val_f1: 0.8607 - val_acc: 0.8607 - val_categorical_crossentropy: 0.3534\n",
            "Epoch 58/200\n",
            "113/113 [==============================] - 11s 95ms/step - loss: 0.2035 - auc: 0.9867 - f1: 0.8947 - acc: 0.8946 - categorical_crossentropy: 0.2957 - val_loss: 0.4191 - val_auc: 0.9674 - val_f1: 0.8230 - val_acc: 0.8216 - val_categorical_crossentropy: 0.4191\n",
            "Epoch 59/200\n",
            "113/113 [==============================] - 11s 95ms/step - loss: 0.1957 - auc: 0.9872 - f1: 0.8958 - acc: 0.8957 - categorical_crossentropy: 0.2882 - val_loss: 0.3668 - val_auc: 0.9777 - val_f1: 0.8636 - val_acc: 0.8626 - val_categorical_crossentropy: 0.3668\n",
            "Epoch 60/200\n",
            "113/113 [==============================] - 12s 107ms/step - loss: 0.1905 - auc: 0.9882 - f1: 0.9061 - acc: 0.9060 - categorical_crossentropy: 0.2786 - val_loss: 0.3386 - val_auc: 0.9806 - val_f1: 0.8722 - val_acc: 0.8717 - val_categorical_crossentropy: 0.3386\n",
            "Epoch 61/200\n",
            "113/113 [==============================] - 12s 105ms/step - loss: 0.1907 - auc: 0.9884 - f1: 0.8974 - acc: 0.8971 - categorical_crossentropy: 0.2776 - val_loss: 0.3315 - val_auc: 0.9822 - val_f1: 0.8752 - val_acc: 0.8750 - val_categorical_crossentropy: 0.3315\n",
            "Epoch 62/200\n",
            "113/113 [==============================] - 11s 94ms/step - loss: 0.1803 - auc: 0.9897 - f1: 0.9091 - acc: 0.9091 - categorical_crossentropy: 0.2657 - val_loss: 0.3489 - val_auc: 0.9782 - val_f1: 0.8661 - val_acc: 0.8646 - val_categorical_crossentropy: 0.3489\n",
            "Epoch 63/200\n",
            "113/113 [==============================] - 11s 94ms/step - loss: 0.1780 - auc: 0.9898 - f1: 0.9044 - acc: 0.9044 - categorical_crossentropy: 0.2618 - val_loss: 0.3661 - val_auc: 0.9755 - val_f1: 0.8554 - val_acc: 0.8561 - val_categorical_crossentropy: 0.3661\n",
            "Epoch 64/200\n",
            "113/113 [==============================] - 11s 94ms/step - loss: 0.1716 - auc: 0.9912 - f1: 0.9212 - acc: 0.9211 - categorical_crossentropy: 0.2490 - val_loss: 0.3593 - val_auc: 0.9758 - val_f1: 0.8535 - val_acc: 0.8516 - val_categorical_crossentropy: 0.3593\n",
            "Epoch 65/200\n",
            "113/113 [==============================] - 12s 107ms/step - loss: 0.1673 - auc: 0.9909 - f1: 0.9235 - acc: 0.9233 - categorical_crossentropy: 0.2471 - val_loss: 0.3104 - val_auc: 0.9838 - val_f1: 0.8794 - val_acc: 0.8796 - val_categorical_crossentropy: 0.3104\n",
            "Epoch 66/200\n",
            "113/113 [==============================] - 11s 94ms/step - loss: 0.1642 - auc: 0.9913 - f1: 0.9175 - acc: 0.9175 - categorical_crossentropy: 0.2430 - val_loss: 0.3571 - val_auc: 0.9758 - val_f1: 0.8444 - val_acc: 0.8490 - val_categorical_crossentropy: 0.3571\n",
            "Epoch 67/200\n",
            "113/113 [==============================] - 12s 106ms/step - loss: 0.1601 - auc: 0.9916 - f1: 0.9197 - acc: 0.9197 - categorical_crossentropy: 0.2376 - val_loss: 0.3036 - val_auc: 0.9844 - val_f1: 0.8812 - val_acc: 0.8815 - val_categorical_crossentropy: 0.3036\n",
            "Epoch 68/200\n",
            "113/113 [==============================] - 11s 99ms/step - loss: 0.1585 - auc: 0.9918 - f1: 0.9239 - acc: 0.9239 - categorical_crossentropy: 0.2358 - val_loss: 0.2936 - val_auc: 0.9858 - val_f1: 0.8908 - val_acc: 0.8906 - val_categorical_crossentropy: 0.2936\n",
            "Epoch 69/200\n",
            "113/113 [==============================] - 11s 94ms/step - loss: 0.1552 - auc: 0.9926 - f1: 0.9236 - acc: 0.9236 - categorical_crossentropy: 0.2299 - val_loss: 0.5008 - val_auc: 0.9551 - val_f1: 0.7727 - val_acc: 0.7754 - val_categorical_crossentropy: 0.5008\n",
            "Epoch 70/200\n",
            "113/113 [==============================] - 11s 94ms/step - loss: 0.1509 - auc: 0.9925 - f1: 0.9239 - acc: 0.9239 - categorical_crossentropy: 0.2270 - val_loss: 0.3359 - val_auc: 0.9794 - val_f1: 0.8685 - val_acc: 0.8704 - val_categorical_crossentropy: 0.3359\n",
            "Epoch 71/200\n",
            "113/113 [==============================] - 12s 108ms/step - loss: 0.1472 - auc: 0.9931 - f1: 0.9261 - acc: 0.9261 - categorical_crossentropy: 0.2182 - val_loss: 0.2925 - val_auc: 0.9853 - val_f1: 0.8913 - val_acc: 0.8906 - val_categorical_crossentropy: 0.2925\n",
            "Epoch 72/200\n",
            "113/113 [==============================] - 11s 99ms/step - loss: 0.1421 - auc: 0.9942 - f1: 0.9353 - acc: 0.9353 - categorical_crossentropy: 0.2095 - val_loss: 0.2849 - val_auc: 0.9860 - val_f1: 0.8875 - val_acc: 0.8887 - val_categorical_crossentropy: 0.2849\n",
            "Epoch 73/200\n",
            "113/113 [==============================] - 12s 99ms/step - loss: 0.1427 - auc: 0.9940 - f1: 0.9317 - acc: 0.9317 - categorical_crossentropy: 0.2097 - val_loss: 0.2741 - val_auc: 0.9875 - val_f1: 0.9009 - val_acc: 0.9004 - val_categorical_crossentropy: 0.2741\n",
            "Epoch 74/200\n",
            "113/113 [==============================] - 12s 107ms/step - loss: 0.1335 - auc: 0.9949 - f1: 0.9390 - acc: 0.9389 - categorical_crossentropy: 0.1990 - val_loss: 0.2737 - val_auc: 0.9878 - val_f1: 0.8953 - val_acc: 0.8958 - val_categorical_crossentropy: 0.2737\n",
            "Epoch 75/200\n",
            "113/113 [==============================] - 11s 95ms/step - loss: 0.1301 - auc: 0.9954 - f1: 0.9361 - acc: 0.9361 - categorical_crossentropy: 0.1930 - val_loss: 0.3048 - val_auc: 0.9831 - val_f1: 0.8807 - val_acc: 0.8796 - val_categorical_crossentropy: 0.3048\n",
            "Epoch 76/200\n",
            "113/113 [==============================] - 12s 106ms/step - loss: 0.1270 - auc: 0.9952 - f1: 0.9373 - acc: 0.9373 - categorical_crossentropy: 0.1905 - val_loss: 0.2639 - val_auc: 0.9882 - val_f1: 0.8987 - val_acc: 0.8991 - val_categorical_crossentropy: 0.2639\n",
            "Epoch 77/200\n",
            "113/113 [==============================] - 12s 107ms/step - loss: 0.1227 - auc: 0.9958 - f1: 0.9431 - acc: 0.9431 - categorical_crossentropy: 0.1822 - val_loss: 0.2599 - val_auc: 0.9886 - val_f1: 0.9064 - val_acc: 0.9062 - val_categorical_crossentropy: 0.2599\n",
            "Epoch 78/200\n",
            "113/113 [==============================] - 11s 95ms/step - loss: 0.1213 - auc: 0.9954 - f1: 0.9434 - acc: 0.9434 - categorical_crossentropy: 0.1828 - val_loss: 0.2864 - val_auc: 0.9851 - val_f1: 0.8841 - val_acc: 0.8828 - val_categorical_crossentropy: 0.2864\n",
            "Epoch 79/200\n",
            "113/113 [==============================] - 11s 95ms/step - loss: 0.1182 - auc: 0.9960 - f1: 0.9440 - acc: 0.9439 - categorical_crossentropy: 0.1773 - val_loss: 0.3384 - val_auc: 0.9780 - val_f1: 0.8585 - val_acc: 0.8620 - val_categorical_crossentropy: 0.3384\n",
            "Epoch 80/200\n",
            "113/113 [==============================] - 12s 107ms/step - loss: 0.1181 - auc: 0.9963 - f1: 0.9437 - acc: 0.9437 - categorical_crossentropy: 0.1753 - val_loss: 0.2435 - val_auc: 0.9903 - val_f1: 0.9139 - val_acc: 0.9141 - val_categorical_crossentropy: 0.2435\n",
            "Epoch 81/200\n",
            "113/113 [==============================] - 11s 95ms/step - loss: 0.1152 - auc: 0.9960 - f1: 0.9468 - acc: 0.9467 - categorical_crossentropy: 0.1740 - val_loss: 0.3460 - val_auc: 0.9769 - val_f1: 0.8472 - val_acc: 0.8516 - val_categorical_crossentropy: 0.3460\n",
            "Epoch 82/200\n",
            "113/113 [==============================] - 11s 95ms/step - loss: 0.1069 - auc: 0.9970 - f1: 0.9543 - acc: 0.9543 - categorical_crossentropy: 0.1596 - val_loss: 0.3068 - val_auc: 0.9829 - val_f1: 0.8819 - val_acc: 0.8848 - val_categorical_crossentropy: 0.3068\n",
            "Epoch 83/200\n",
            "113/113 [==============================] - 11s 95ms/step - loss: 0.1049 - auc: 0.9970 - f1: 0.9551 - acc: 0.9551 - categorical_crossentropy: 0.1574 - val_loss: 0.2615 - val_auc: 0.9876 - val_f1: 0.8966 - val_acc: 0.8978 - val_categorical_crossentropy: 0.2615\n",
            "Epoch 84/200\n",
            "113/113 [==============================] - 12s 107ms/step - loss: 0.1041 - auc: 0.9971 - f1: 0.9552 - acc: 0.9551 - categorical_crossentropy: 0.1555 - val_loss: 0.2268 - val_auc: 0.9919 - val_f1: 0.9231 - val_acc: 0.9232 - val_categorical_crossentropy: 0.2268\n",
            "Epoch 85/200\n",
            "113/113 [==============================] - 11s 95ms/step - loss: 0.1036 - auc: 0.9970 - f1: 0.9548 - acc: 0.9548 - categorical_crossentropy: 0.1563 - val_loss: 0.2421 - val_auc: 0.9895 - val_f1: 0.9100 - val_acc: 0.9108 - val_categorical_crossentropy: 0.2421\n",
            "Epoch 86/200\n",
            "113/113 [==============================] - 11s 94ms/step - loss: 0.0982 - auc: 0.9977 - f1: 0.9610 - acc: 0.9610 - categorical_crossentropy: 0.1470 - val_loss: 0.3112 - val_auc: 0.9815 - val_f1: 0.8686 - val_acc: 0.8717 - val_categorical_crossentropy: 0.3112\n",
            "Epoch 87/200\n",
            "113/113 [==============================] - 11s 94ms/step - loss: 0.0949 - auc: 0.9975 - f1: 0.9587 - acc: 0.9587 - categorical_crossentropy: 0.1441 - val_loss: 0.3060 - val_auc: 0.9820 - val_f1: 0.8704 - val_acc: 0.8737 - val_categorical_crossentropy: 0.3060\n",
            "Epoch 88/200\n",
            "113/113 [==============================] - 13s 110ms/step - loss: 0.0940 - auc: 0.9978 - f1: 0.9565 - acc: 0.9565 - categorical_crossentropy: 0.1406 - val_loss: 0.2158 - val_auc: 0.9922 - val_f1: 0.9262 - val_acc: 0.9264 - val_categorical_crossentropy: 0.2158\n",
            "Epoch 89/200\n",
            "113/113 [==============================] - 11s 99ms/step - loss: 0.0883 - auc: 0.9980 - f1: 0.9674 - acc: 0.9674 - categorical_crossentropy: 0.1323 - val_loss: 0.2128 - val_auc: 0.9924 - val_f1: 0.9252 - val_acc: 0.9251 - val_categorical_crossentropy: 0.2128\n",
            "Epoch 90/200\n",
            "113/113 [==============================] - 11s 95ms/step - loss: 0.0932 - auc: 0.9976 - f1: 0.9602 - acc: 0.9601 - categorical_crossentropy: 0.1397 - val_loss: 0.2141 - val_auc: 0.9926 - val_f1: 0.9287 - val_acc: 0.9284 - val_categorical_crossentropy: 0.2141\n",
            "Epoch 91/200\n",
            "113/113 [==============================] - 11s 95ms/step - loss: 0.0869 - auc: 0.9979 - f1: 0.9640 - acc: 0.9640 - categorical_crossentropy: 0.1314 - val_loss: 0.2386 - val_auc: 0.9900 - val_f1: 0.9131 - val_acc: 0.9141 - val_categorical_crossentropy: 0.2386\n",
            "Epoch 92/200\n",
            "113/113 [==============================] - 11s 94ms/step - loss: 0.0822 - auc: 0.9987 - f1: 0.9691 - acc: 0.9690 - categorical_crossentropy: 0.1235 - val_loss: 0.2376 - val_auc: 0.9894 - val_f1: 0.9060 - val_acc: 0.9049 - val_categorical_crossentropy: 0.2376\n",
            "Epoch 93/200\n",
            "113/113 [==============================] - 11s 95ms/step - loss: 0.0798 - auc: 0.9984 - f1: 0.9655 - acc: 0.9654 - categorical_crossentropy: 0.1210 - val_loss: 0.2319 - val_auc: 0.9899 - val_f1: 0.9132 - val_acc: 0.9141 - val_categorical_crossentropy: 0.2319\n",
            "Epoch 94/200\n",
            "113/113 [==============================] - 12s 108ms/step - loss: 0.0819 - auc: 0.9984 - f1: 0.9646 - acc: 0.9646 - categorical_crossentropy: 0.1232 - val_loss: 0.1936 - val_auc: 0.9938 - val_f1: 0.9356 - val_acc: 0.9355 - val_categorical_crossentropy: 0.1936\n",
            "Epoch 95/200\n",
            "113/113 [==============================] - 11s 94ms/step - loss: 0.0762 - auc: 0.9987 - f1: 0.9691 - acc: 0.9690 - categorical_crossentropy: 0.1144 - val_loss: 0.3328 - val_auc: 0.9790 - val_f1: 0.8538 - val_acc: 0.8581 - val_categorical_crossentropy: 0.3328\n",
            "Epoch 96/200\n",
            "113/113 [==============================] - 12s 108ms/step - loss: 0.0762 - auc: 0.9986 - f1: 0.9710 - acc: 0.9710 - categorical_crossentropy: 0.1154 - val_loss: 0.1900 - val_auc: 0.9941 - val_f1: 0.9374 - val_acc: 0.9375 - val_categorical_crossentropy: 0.1900\n",
            "Epoch 97/200\n",
            "113/113 [==============================] - 11s 100ms/step - loss: 0.0751 - auc: 0.9987 - f1: 0.9707 - acc: 0.9707 - categorical_crossentropy: 0.1150 - val_loss: 0.1874 - val_auc: 0.9940 - val_f1: 0.9373 - val_acc: 0.9375 - val_categorical_crossentropy: 0.1874\n",
            "Epoch 98/200\n",
            "113/113 [==============================] - 11s 99ms/step - loss: 0.0743 - auc: 0.9986 - f1: 0.9721 - acc: 0.9721 - categorical_crossentropy: 0.1119 - val_loss: 0.1872 - val_auc: 0.9938 - val_f1: 0.9414 - val_acc: 0.9414 - val_categorical_crossentropy: 0.1872\n",
            "Epoch 99/200\n",
            "113/113 [==============================] - 11s 99ms/step - loss: 0.0714 - auc: 0.9988 - f1: 0.9744 - acc: 0.9743 - categorical_crossentropy: 0.1090 - val_loss: 0.1855 - val_auc: 0.9939 - val_f1: 0.9389 - val_acc: 0.9388 - val_categorical_crossentropy: 0.1855\n",
            "Epoch 100/200\n",
            "113/113 [==============================] - 11s 95ms/step - loss: 0.0699 - auc: 0.9990 - f1: 0.9755 - acc: 0.9755 - categorical_crossentropy: 0.1047 - val_loss: 0.2038 - val_auc: 0.9921 - val_f1: 0.9370 - val_acc: 0.9375 - val_categorical_crossentropy: 0.2038\n",
            "Epoch 101/200\n",
            "113/113 [==============================] - 11s 95ms/step - loss: 0.0650 - auc: 0.9990 - f1: 0.9780 - acc: 0.9780 - categorical_crossentropy: 0.0988 - val_loss: 0.1882 - val_auc: 0.9939 - val_f1: 0.9327 - val_acc: 0.9323 - val_categorical_crossentropy: 0.1882\n",
            "Epoch 102/200\n",
            "113/113 [==============================] - 12s 108ms/step - loss: 0.0659 - auc: 0.9992 - f1: 0.9788 - acc: 0.9788 - categorical_crossentropy: 0.0993 - val_loss: 0.1778 - val_auc: 0.9943 - val_f1: 0.9434 - val_acc: 0.9434 - val_categorical_crossentropy: 0.1778\n",
            "Epoch 103/200\n",
            "113/113 [==============================] - 11s 95ms/step - loss: 0.0644 - auc: 0.9992 - f1: 0.9777 - acc: 0.9777 - categorical_crossentropy: 0.0971 - val_loss: 0.1954 - val_auc: 0.9929 - val_f1: 0.9296 - val_acc: 0.9290 - val_categorical_crossentropy: 0.1954\n",
            "Epoch 104/200\n",
            "113/113 [==============================] - 13s 111ms/step - loss: 0.0639 - auc: 0.9991 - f1: 0.9760 - acc: 0.9760 - categorical_crossentropy: 0.0972 - val_loss: 0.1752 - val_auc: 0.9944 - val_f1: 0.9440 - val_acc: 0.9440 - val_categorical_crossentropy: 0.1752\n",
            "Epoch 105/200\n",
            "113/113 [==============================] - 11s 95ms/step - loss: 0.0636 - auc: 0.9991 - f1: 0.9766 - acc: 0.9766 - categorical_crossentropy: 0.0960 - val_loss: 0.2149 - val_auc: 0.9910 - val_f1: 0.9118 - val_acc: 0.9128 - val_categorical_crossentropy: 0.2149\n",
            "Epoch 106/200\n",
            "113/113 [==============================] - 11s 95ms/step - loss: 0.0612 - auc: 0.9993 - f1: 0.9755 - acc: 0.9755 - categorical_crossentropy: 0.0931 - val_loss: 0.1762 - val_auc: 0.9943 - val_f1: 0.9423 - val_acc: 0.9421 - val_categorical_crossentropy: 0.1762\n",
            "Epoch 107/200\n",
            "113/113 [==============================] - 12s 108ms/step - loss: 0.0583 - auc: 0.9994 - f1: 0.9805 - acc: 0.9805 - categorical_crossentropy: 0.0887 - val_loss: 0.1726 - val_auc: 0.9943 - val_f1: 0.9496 - val_acc: 0.9499 - val_categorical_crossentropy: 0.1726\n",
            "Epoch 108/200\n",
            "113/113 [==============================] - 11s 100ms/step - loss: 0.0573 - auc: 0.9994 - f1: 0.9816 - acc: 0.9816 - categorical_crossentropy: 0.0857 - val_loss: 0.1658 - val_auc: 0.9951 - val_f1: 0.9463 - val_acc: 0.9466 - val_categorical_crossentropy: 0.1658\n",
            "Epoch 109/200\n",
            "113/113 [==============================] - 11s 95ms/step - loss: 0.0539 - auc: 0.9994 - f1: 0.9833 - acc: 0.9833 - categorical_crossentropy: 0.0824 - val_loss: 0.1735 - val_auc: 0.9942 - val_f1: 0.9351 - val_acc: 0.9355 - val_categorical_crossentropy: 0.1735\n",
            "Epoch 110/200\n",
            "113/113 [==============================] - 11s 94ms/step - loss: 0.0528 - auc: 0.9994 - f1: 0.9808 - acc: 0.9808 - categorical_crossentropy: 0.0799 - val_loss: 0.1702 - val_auc: 0.9946 - val_f1: 0.9398 - val_acc: 0.9395 - val_categorical_crossentropy: 0.1702\n",
            "Epoch 111/200\n",
            "113/113 [==============================] - 11s 95ms/step - loss: 0.0560 - auc: 0.9994 - f1: 0.9813 - acc: 0.9813 - categorical_crossentropy: 0.0840 - val_loss: 0.2075 - val_auc: 0.9915 - val_f1: 0.9151 - val_acc: 0.9160 - val_categorical_crossentropy: 0.2075\n",
            "Epoch 112/200\n",
            "113/113 [==============================] - 11s 95ms/step - loss: 0.0498 - auc: 0.9996 - f1: 0.9830 - acc: 0.9830 - categorical_crossentropy: 0.0750 - val_loss: 0.1718 - val_auc: 0.9949 - val_f1: 0.9481 - val_acc: 0.9479 - val_categorical_crossentropy: 0.1718\n",
            "Epoch 113/200\n",
            "113/113 [==============================] - 12s 109ms/step - loss: 0.0483 - auc: 0.9995 - f1: 0.9833 - acc: 0.9833 - categorical_crossentropy: 0.0742 - val_loss: 0.1489 - val_auc: 0.9962 - val_f1: 0.9557 - val_acc: 0.9557 - val_categorical_crossentropy: 0.1489\n",
            "Epoch 114/200\n",
            "113/113 [==============================] - 11s 95ms/step - loss: 0.0483 - auc: 0.9997 - f1: 0.9855 - acc: 0.9855 - categorical_crossentropy: 0.0730 - val_loss: 0.1739 - val_auc: 0.9942 - val_f1: 0.9360 - val_acc: 0.9355 - val_categorical_crossentropy: 0.1739\n",
            "Epoch 115/200\n",
            "113/113 [==============================] - 11s 95ms/step - loss: 0.0463 - auc: 0.9996 - f1: 0.9869 - acc: 0.9869 - categorical_crossentropy: 0.0699 - val_loss: 0.1578 - val_auc: 0.9952 - val_f1: 0.9492 - val_acc: 0.9492 - val_categorical_crossentropy: 0.1578\n",
            "Epoch 116/200\n",
            "113/113 [==============================] - 11s 95ms/step - loss: 0.0461 - auc: 0.9996 - f1: 0.9852 - acc: 0.9852 - categorical_crossentropy: 0.0700 - val_loss: 0.1575 - val_auc: 0.9954 - val_f1: 0.9429 - val_acc: 0.9434 - val_categorical_crossentropy: 0.1575\n",
            "Epoch 117/200\n",
            "113/113 [==============================] - 11s 95ms/step - loss: 0.0451 - auc: 0.9997 - f1: 0.9861 - acc: 0.9861 - categorical_crossentropy: 0.0684 - val_loss: 0.1623 - val_auc: 0.9953 - val_f1: 0.9392 - val_acc: 0.9388 - val_categorical_crossentropy: 0.1623\n",
            "Epoch 118/200\n",
            "113/113 [==============================] - 12s 107ms/step - loss: 0.0437 - auc: 0.9997 - f1: 0.9861 - acc: 0.9861 - categorical_crossentropy: 0.0665 - val_loss: 0.1451 - val_auc: 0.9958 - val_f1: 0.9555 - val_acc: 0.9557 - val_categorical_crossentropy: 0.1451\n",
            "Epoch 119/200\n",
            "113/113 [==============================] - 11s 95ms/step - loss: 0.0427 - auc: 0.9997 - f1: 0.9888 - acc: 0.9888 - categorical_crossentropy: 0.0652 - val_loss: 0.1458 - val_auc: 0.9957 - val_f1: 0.9574 - val_acc: 0.9577 - val_categorical_crossentropy: 0.1458\n",
            "Epoch 120/200\n",
            "113/113 [==============================] - 11s 95ms/step - loss: 0.0426 - auc: 0.9998 - f1: 0.9872 - acc: 0.9872 - categorical_crossentropy: 0.0635 - val_loss: 0.1508 - val_auc: 0.9954 - val_f1: 0.9547 - val_acc: 0.9551 - val_categorical_crossentropy: 0.1508\n",
            "Epoch 121/200\n",
            "113/113 [==============================] - 13s 110ms/step - loss: 0.0398 - auc: 0.9998 - f1: 0.9883 - acc: 0.9883 - categorical_crossentropy: 0.0599 - val_loss: 0.1356 - val_auc: 0.9966 - val_f1: 0.9628 - val_acc: 0.9629 - val_categorical_crossentropy: 0.1356\n",
            "Epoch 122/200\n",
            "113/113 [==============================] - 11s 95ms/step - loss: 0.0403 - auc: 0.9997 - f1: 0.9886 - acc: 0.9886 - categorical_crossentropy: 0.0614 - val_loss: 0.1409 - val_auc: 0.9961 - val_f1: 0.9550 - val_acc: 0.9551 - val_categorical_crossentropy: 0.1409\n",
            "Epoch 123/200\n",
            "113/113 [==============================] - 11s 95ms/step - loss: 0.0393 - auc: 0.9997 - f1: 0.9861 - acc: 0.9861 - categorical_crossentropy: 0.0588 - val_loss: 0.1887 - val_auc: 0.9924 - val_f1: 0.9399 - val_acc: 0.9408 - val_categorical_crossentropy: 0.1887\n",
            "Epoch 124/200\n",
            "113/113 [==============================] - 11s 94ms/step - loss: 0.0359 - auc: 0.9999 - f1: 0.9916 - acc: 0.9916 - categorical_crossentropy: 0.0538 - val_loss: 0.1490 - val_auc: 0.9954 - val_f1: 0.9509 - val_acc: 0.9512 - val_categorical_crossentropy: 0.1490\n",
            "Epoch 125/200\n",
            "113/113 [==============================] - 12s 108ms/step - loss: 0.0376 - auc: 0.9997 - f1: 0.9880 - acc: 0.9880 - categorical_crossentropy: 0.0570 - val_loss: 0.1345 - val_auc: 0.9964 - val_f1: 0.9596 - val_acc: 0.9596 - val_categorical_crossentropy: 0.1345\n",
            "Epoch 126/200\n",
            "113/113 [==============================] - 11s 95ms/step - loss: 0.0355 - auc: 0.9999 - f1: 0.9914 - acc: 0.9914 - categorical_crossentropy: 0.0533 - val_loss: 0.1437 - val_auc: 0.9958 - val_f1: 0.9544 - val_acc: 0.9544 - val_categorical_crossentropy: 0.1437\n",
            "Epoch 127/200\n",
            "113/113 [==============================] - 11s 94ms/step - loss: 0.0378 - auc: 0.9997 - f1: 0.9883 - acc: 0.9883 - categorical_crossentropy: 0.0570 - val_loss: 0.1613 - val_auc: 0.9948 - val_f1: 0.9373 - val_acc: 0.9368 - val_categorical_crossentropy: 0.1613\n",
            "Epoch 128/200\n",
            "113/113 [==============================] - 11s 94ms/step - loss: 0.0339 - auc: 0.9999 - f1: 0.9916 - acc: 0.9916 - categorical_crossentropy: 0.0521 - val_loss: 0.1413 - val_auc: 0.9959 - val_f1: 0.9526 - val_acc: 0.9525 - val_categorical_crossentropy: 0.1413\n",
            "Epoch 129/200\n",
            "113/113 [==============================] - 11s 95ms/step - loss: 0.0343 - auc: 0.9998 - f1: 0.9883 - acc: 0.9883 - categorical_crossentropy: 0.0523 - val_loss: 0.1742 - val_auc: 0.9928 - val_f1: 0.9324 - val_acc: 0.9329 - val_categorical_crossentropy: 0.1742\n",
            "Epoch 130/200\n",
            "113/113 [==============================] - 12s 107ms/step - loss: 0.0309 - auc: 0.9999 - f1: 0.9930 - acc: 0.9930 - categorical_crossentropy: 0.0464 - val_loss: 0.1314 - val_auc: 0.9962 - val_f1: 0.9608 - val_acc: 0.9609 - val_categorical_crossentropy: 0.1314\n",
            "Epoch 131/200\n",
            "113/113 [==============================] - 11s 95ms/step - loss: 0.0296 - auc: 0.9999 - f1: 0.9936 - acc: 0.9936 - categorical_crossentropy: 0.0445 - val_loss: 0.1343 - val_auc: 0.9960 - val_f1: 0.9536 - val_acc: 0.9538 - val_categorical_crossentropy: 0.1343\n",
            "Epoch 132/200\n",
            "113/113 [==============================] - 12s 109ms/step - loss: 0.0344 - auc: 0.9998 - f1: 0.9919 - acc: 0.9919 - categorical_crossentropy: 0.0500 - val_loss: 0.1273 - val_auc: 0.9966 - val_f1: 0.9609 - val_acc: 0.9609 - val_categorical_crossentropy: 0.1273\n",
            "Epoch 133/200\n",
            "113/113 [==============================] - 11s 100ms/step - loss: 0.0318 - auc: 0.9999 - f1: 0.9905 - acc: 0.9905 - categorical_crossentropy: 0.0481 - val_loss: 0.1253 - val_auc: 0.9968 - val_f1: 0.9641 - val_acc: 0.9642 - val_categorical_crossentropy: 0.1253\n",
            "Epoch 134/200\n",
            "113/113 [==============================] - 11s 95ms/step - loss: 0.0297 - auc: 0.9999 - f1: 0.9911 - acc: 0.9911 - categorical_crossentropy: 0.0448 - val_loss: 0.1305 - val_auc: 0.9962 - val_f1: 0.9601 - val_acc: 0.9603 - val_categorical_crossentropy: 0.1305\n",
            "Epoch 135/200\n",
            "113/113 [==============================] - 11s 95ms/step - loss: 0.0288 - auc: 0.9999 - f1: 0.9933 - acc: 0.9933 - categorical_crossentropy: 0.0438 - val_loss: 0.1338 - val_auc: 0.9957 - val_f1: 0.9536 - val_acc: 0.9538 - val_categorical_crossentropy: 0.1338\n",
            "Epoch 136/200\n",
            "113/113 [==============================] - 11s 95ms/step - loss: 0.0281 - auc: 0.9999 - f1: 0.9936 - acc: 0.9936 - categorical_crossentropy: 0.0417 - val_loss: 0.1512 - val_auc: 0.9952 - val_f1: 0.9526 - val_acc: 0.9525 - val_categorical_crossentropy: 0.1512\n",
            "Epoch 137/200\n",
            "113/113 [==============================] - 12s 108ms/step - loss: 0.0281 - auc: 0.9999 - f1: 0.9930 - acc: 0.9930 - categorical_crossentropy: 0.0422 - val_loss: 0.1220 - val_auc: 0.9967 - val_f1: 0.9635 - val_acc: 0.9635 - val_categorical_crossentropy: 0.1220\n",
            "Epoch 138/200\n",
            "113/113 [==============================] - 11s 95ms/step - loss: 0.0273 - auc: 0.9999 - f1: 0.9925 - acc: 0.9925 - categorical_crossentropy: 0.0414 - val_loss: 0.1335 - val_auc: 0.9960 - val_f1: 0.9573 - val_acc: 0.9577 - val_categorical_crossentropy: 0.1335\n",
            "Epoch 139/200\n",
            "113/113 [==============================] - 11s 95ms/step - loss: 0.0242 - auc: 1.0000 - f1: 0.9944 - acc: 0.9944 - categorical_crossentropy: 0.0367 - val_loss: 0.1333 - val_auc: 0.9962 - val_f1: 0.9539 - val_acc: 0.9538 - val_categorical_crossentropy: 0.1333\n",
            "Epoch 140/200\n",
            "113/113 [==============================] - 11s 95ms/step - loss: 0.0231 - auc: 1.0000 - f1: 0.9958 - acc: 0.9958 - categorical_crossentropy: 0.0345 - val_loss: 0.1269 - val_auc: 0.9961 - val_f1: 0.9588 - val_acc: 0.9590 - val_categorical_crossentropy: 0.1269\n",
            "Epoch 141/200\n",
            "113/113 [==============================] - 11s 95ms/step - loss: 0.0267 - auc: 0.9999 - f1: 0.9919 - acc: 0.9919 - categorical_crossentropy: 0.0409 - val_loss: 0.1230 - val_auc: 0.9962 - val_f1: 0.9607 - val_acc: 0.9609 - val_categorical_crossentropy: 0.1230\n",
            "Epoch 142/200\n",
            "113/113 [==============================] - 12s 107ms/step - loss: 0.0251 - auc: 1.0000 - f1: 0.9939 - acc: 0.9939 - categorical_crossentropy: 0.0369 - val_loss: 0.1109 - val_auc: 0.9974 - val_f1: 0.9674 - val_acc: 0.9674 - val_categorical_crossentropy: 0.1109\n",
            "Epoch 143/200\n",
            "113/113 [==============================] - 11s 95ms/step - loss: 0.0242 - auc: 1.0000 - f1: 0.9967 - acc: 0.9967 - categorical_crossentropy: 0.0352 - val_loss: 0.1146 - val_auc: 0.9969 - val_f1: 0.9661 - val_acc: 0.9661 - val_categorical_crossentropy: 0.1146\n",
            "Epoch 144/200\n",
            "113/113 [==============================] - 11s 95ms/step - loss: 0.0243 - auc: 0.9999 - f1: 0.9944 - acc: 0.9944 - categorical_crossentropy: 0.0366 - val_loss: 0.1959 - val_auc: 0.9922 - val_f1: 0.9143 - val_acc: 0.9134 - val_categorical_crossentropy: 0.1959\n",
            "Epoch 145/200\n",
            "113/113 [==============================] - 11s 95ms/step - loss: 0.0227 - auc: 0.9999 - f1: 0.9947 - acc: 0.9947 - categorical_crossentropy: 0.0353 - val_loss: 0.1135 - val_auc: 0.9967 - val_f1: 0.9660 - val_acc: 0.9661 - val_categorical_crossentropy: 0.1135\n",
            "Epoch 146/200\n",
            "113/113 [==============================] - 11s 95ms/step - loss: 0.0221 - auc: 0.9999 - f1: 0.9936 - acc: 0.9936 - categorical_crossentropy: 0.0339 - val_loss: 0.1242 - val_auc: 0.9965 - val_f1: 0.9588 - val_acc: 0.9590 - val_categorical_crossentropy: 0.1242\n",
            "Epoch 147/200\n",
            "113/113 [==============================] - 11s 95ms/step - loss: 0.0228 - auc: 1.0000 - f1: 0.9950 - acc: 0.9950 - categorical_crossentropy: 0.0340 - val_loss: 0.1122 - val_auc: 0.9971 - val_f1: 0.9674 - val_acc: 0.9674 - val_categorical_crossentropy: 0.1122\n",
            "Epoch 148/200\n",
            "113/113 [==============================] - 11s 95ms/step - loss: 0.0233 - auc: 1.0000 - f1: 0.9944 - acc: 0.9944 - categorical_crossentropy: 0.0343 - val_loss: 0.1116 - val_auc: 0.9972 - val_f1: 0.9675 - val_acc: 0.9674 - val_categorical_crossentropy: 0.1116\n",
            "Epoch 149/200\n",
            "113/113 [==============================] - 11s 95ms/step - loss: 0.0221 - auc: 1.0000 - f1: 0.9967 - acc: 0.9967 - categorical_crossentropy: 0.0332 - val_loss: 0.1164 - val_auc: 0.9969 - val_f1: 0.9621 - val_acc: 0.9622 - val_categorical_crossentropy: 0.1164\n",
            "Epoch 150/200\n",
            "113/113 [==============================] - 11s 95ms/step - loss: 0.0201 - auc: 1.0000 - f1: 0.9958 - acc: 0.9958 - categorical_crossentropy: 0.0302 - val_loss: 0.1306 - val_auc: 0.9957 - val_f1: 0.9567 - val_acc: 0.9570 - val_categorical_crossentropy: 0.1306\n",
            "Epoch 151/200\n",
            "113/113 [==============================] - 11s 94ms/step - loss: 0.0190 - auc: 1.0000 - f1: 0.9975 - acc: 0.9975 - categorical_crossentropy: 0.0280 - val_loss: 0.1113 - val_auc: 0.9968 - val_f1: 0.9667 - val_acc: 0.9668 - val_categorical_crossentropy: 0.1113\n",
            "Epoch 152/200\n",
            "113/113 [==============================] - 11s 94ms/step - loss: 0.0199 - auc: 1.0000 - f1: 0.9969 - acc: 0.9969 - categorical_crossentropy: 0.0300 - val_loss: 0.1143 - val_auc: 0.9965 - val_f1: 0.9634 - val_acc: 0.9635 - val_categorical_crossentropy: 0.1143\n",
            "Epoch 153/200\n",
            "113/113 [==============================] - 11s 95ms/step - loss: 0.0203 - auc: 1.0000 - f1: 0.9958 - acc: 0.9958 - categorical_crossentropy: 0.0298 - val_loss: 0.1120 - val_auc: 0.9967 - val_f1: 0.9667 - val_acc: 0.9668 - val_categorical_crossentropy: 0.1120\n",
            "Epoch 154/200\n",
            "113/113 [==============================] - 11s 95ms/step - loss: 0.0178 - auc: 1.0000 - f1: 0.9964 - acc: 0.9964 - categorical_crossentropy: 0.0270 - val_loss: 0.1261 - val_auc: 0.9957 - val_f1: 0.9593 - val_acc: 0.9596 - val_categorical_crossentropy: 0.1261\n",
            "Epoch 155/200\n",
            "113/113 [==============================] - 11s 96ms/step - loss: 0.0176 - auc: 1.0000 - f1: 0.9953 - acc: 0.9953 - categorical_crossentropy: 0.0268 - val_loss: 0.1333 - val_auc: 0.9962 - val_f1: 0.9533 - val_acc: 0.9531 - val_categorical_crossentropy: 0.1333\n",
            "Epoch 156/200\n",
            "113/113 [==============================] - 12s 108ms/step - loss: 0.0176 - auc: 1.0000 - f1: 0.9967 - acc: 0.9967 - categorical_crossentropy: 0.0267 - val_loss: 0.1050 - val_auc: 0.9974 - val_f1: 0.9674 - val_acc: 0.9674 - val_categorical_crossentropy: 0.1050\n",
            "Epoch 157/200\n",
            "113/113 [==============================] - 11s 95ms/step - loss: 0.0165 - auc: 1.0000 - f1: 0.9972 - acc: 0.9972 - categorical_crossentropy: 0.0253 - val_loss: 0.2045 - val_auc: 0.9903 - val_f1: 0.9194 - val_acc: 0.9206 - val_categorical_crossentropy: 0.2045\n",
            "Epoch 158/200\n",
            "113/113 [==============================] - 11s 95ms/step - loss: 0.0171 - auc: 1.0000 - f1: 0.9967 - acc: 0.9967 - categorical_crossentropy: 0.0260 - val_loss: 0.1115 - val_auc: 0.9970 - val_f1: 0.9660 - val_acc: 0.9661 - val_categorical_crossentropy: 0.1115\n",
            "Epoch 159/200\n",
            "113/113 [==============================] - 11s 95ms/step - loss: 0.0172 - auc: 1.0000 - f1: 0.9958 - acc: 0.9958 - categorical_crossentropy: 0.0256 - val_loss: 0.1067 - val_auc: 0.9969 - val_f1: 0.9674 - val_acc: 0.9674 - val_categorical_crossentropy: 0.1067\n",
            "Epoch 160/200\n",
            "113/113 [==============================] - 13s 112ms/step - loss: 0.0166 - auc: 1.0000 - f1: 0.9967 - acc: 0.9967 - categorical_crossentropy: 0.0255 - val_loss: 0.1044 - val_auc: 0.9970 - val_f1: 0.9667 - val_acc: 0.9668 - val_categorical_crossentropy: 0.1044\n",
            "Epoch 161/200\n",
            "113/113 [==============================] - 11s 95ms/step - loss: 0.0164 - auc: 1.0000 - f1: 0.9969 - acc: 0.9969 - categorical_crossentropy: 0.0240 - val_loss: 0.1083 - val_auc: 0.9973 - val_f1: 0.9656 - val_acc: 0.9655 - val_categorical_crossentropy: 0.1083\n",
            "Epoch 162/200\n",
            "113/113 [==============================] - 11s 95ms/step - loss: 0.0134 - auc: 1.0000 - f1: 0.9983 - acc: 0.9983 - categorical_crossentropy: 0.0198 - val_loss: 0.1752 - val_auc: 0.9924 - val_f1: 0.9336 - val_acc: 0.9342 - val_categorical_crossentropy: 0.1752\n",
            "Epoch 163/200\n",
            "113/113 [==============================] - 11s 95ms/step - loss: 0.0153 - auc: 1.0000 - f1: 0.9967 - acc: 0.9967 - categorical_crossentropy: 0.0232 - val_loss: 0.1210 - val_auc: 0.9960 - val_f1: 0.9606 - val_acc: 0.9609 - val_categorical_crossentropy: 0.1210\n",
            "Epoch 164/200\n",
            "113/113 [==============================] - 12s 108ms/step - loss: 0.0158 - auc: 1.0000 - f1: 0.9961 - acc: 0.9961 - categorical_crossentropy: 0.0235 - val_loss: 0.1024 - val_auc: 0.9974 - val_f1: 0.9680 - val_acc: 0.9681 - val_categorical_crossentropy: 0.1024\n",
            "Epoch 165/200\n",
            "113/113 [==============================] - 11s 94ms/step - loss: 0.0151 - auc: 1.0000 - f1: 0.9972 - acc: 0.9972 - categorical_crossentropy: 0.0229 - val_loss: 0.1082 - val_auc: 0.9969 - val_f1: 0.9647 - val_acc: 0.9648 - val_categorical_crossentropy: 0.1082\n",
            "Epoch 166/200\n",
            "113/113 [==============================] - 11s 94ms/step - loss: 0.0143 - auc: 1.0000 - f1: 0.9969 - acc: 0.9969 - categorical_crossentropy: 0.0214 - val_loss: 0.1173 - val_auc: 0.9969 - val_f1: 0.9598 - val_acc: 0.9596 - val_categorical_crossentropy: 0.1173\n",
            "Epoch 167/200\n",
            "113/113 [==============================] - 11s 95ms/step - loss: 0.0133 - auc: 1.0000 - f1: 0.9980 - acc: 0.9980 - categorical_crossentropy: 0.0201 - val_loss: 0.1124 - val_auc: 0.9966 - val_f1: 0.9626 - val_acc: 0.9629 - val_categorical_crossentropy: 0.1124\n",
            "Epoch 168/200\n",
            "113/113 [==============================] - 11s 95ms/step - loss: 0.0138 - auc: 1.0000 - f1: 0.9980 - acc: 0.9980 - categorical_crossentropy: 0.0204 - val_loss: 0.1192 - val_auc: 0.9964 - val_f1: 0.9609 - val_acc: 0.9609 - val_categorical_crossentropy: 0.1192\n",
            "Epoch 169/200\n",
            "113/113 [==============================] - 11s 95ms/step - loss: 0.0126 - auc: 1.0000 - f1: 0.9975 - acc: 0.9975 - categorical_crossentropy: 0.0193 - val_loss: 0.1053 - val_auc: 0.9962 - val_f1: 0.9674 - val_acc: 0.9674 - val_categorical_crossentropy: 0.1053\n",
            "Epoch 170/200\n",
            "113/113 [==============================] - 11s 95ms/step - loss: 0.0128 - auc: 1.0000 - f1: 0.9992 - acc: 0.9992 - categorical_crossentropy: 0.0190 - val_loss: 0.1116 - val_auc: 0.9967 - val_f1: 0.9626 - val_acc: 0.9629 - val_categorical_crossentropy: 0.1116\n",
            "Epoch 171/200\n",
            "113/113 [==============================] - 12s 108ms/step - loss: 0.0141 - auc: 1.0000 - f1: 0.9980 - acc: 0.9980 - categorical_crossentropy: 0.0213 - val_loss: 0.1003 - val_auc: 0.9971 - val_f1: 0.9667 - val_acc: 0.9668 - val_categorical_crossentropy: 0.1003\n",
            "Epoch 172/200\n",
            "113/113 [==============================] - 12s 106ms/step - loss: 0.0123 - auc: 1.0000 - f1: 0.9983 - acc: 0.9983 - categorical_crossentropy: 0.0187 - val_loss: 0.0974 - val_auc: 0.9973 - val_f1: 0.9700 - val_acc: 0.9701 - val_categorical_crossentropy: 0.0974\n",
            "Epoch 173/200\n",
            "113/113 [==============================] - 11s 100ms/step - loss: 0.0134 - auc: 1.0000 - f1: 0.9972 - acc: 0.9972 - categorical_crossentropy: 0.0206 - val_loss: 0.0959 - val_auc: 0.9974 - val_f1: 0.9700 - val_acc: 0.9701 - val_categorical_crossentropy: 0.0959\n",
            "Epoch 174/200\n",
            "113/113 [==============================] - 11s 96ms/step - loss: 0.0115 - auc: 1.0000 - f1: 0.9986 - acc: 0.9986 - categorical_crossentropy: 0.0169 - val_loss: 0.1146 - val_auc: 0.9970 - val_f1: 0.9617 - val_acc: 0.9616 - val_categorical_crossentropy: 0.1146\n",
            "Epoch 175/200\n",
            "113/113 [==============================] - 11s 95ms/step - loss: 0.0126 - auc: 1.0000 - f1: 0.9983 - acc: 0.9983 - categorical_crossentropy: 0.0192 - val_loss: 0.1164 - val_auc: 0.9959 - val_f1: 0.9640 - val_acc: 0.9642 - val_categorical_crossentropy: 0.1164\n",
            "Epoch 176/200\n",
            "113/113 [==============================] - 11s 95ms/step - loss: 0.0111 - auc: 1.0000 - f1: 0.9980 - acc: 0.9980 - categorical_crossentropy: 0.0164 - val_loss: 0.1031 - val_auc: 0.9970 - val_f1: 0.9647 - val_acc: 0.9648 - val_categorical_crossentropy: 0.1031\n",
            "Epoch 177/200\n",
            "113/113 [==============================] - 12s 107ms/step - loss: 0.0114 - auc: 1.0000 - f1: 0.9980 - acc: 0.9980 - categorical_crossentropy: 0.0171 - val_loss: 0.0944 - val_auc: 0.9973 - val_f1: 0.9719 - val_acc: 0.9720 - val_categorical_crossentropy: 0.0944\n",
            "Epoch 178/200\n",
            "113/113 [==============================] - 11s 95ms/step - loss: 0.0121 - auc: 1.0000 - f1: 0.9975 - acc: 0.9975 - categorical_crossentropy: 0.0183 - val_loss: 0.0949 - val_auc: 0.9973 - val_f1: 0.9693 - val_acc: 0.9694 - val_categorical_crossentropy: 0.0949\n",
            "Epoch 179/200\n",
            "113/113 [==============================] - 11s 95ms/step - loss: 0.0118 - auc: 1.0000 - f1: 0.9983 - acc: 0.9983 - categorical_crossentropy: 0.0180 - val_loss: 0.1358 - val_auc: 0.9947 - val_f1: 0.9496 - val_acc: 0.9499 - val_categorical_crossentropy: 0.1358\n",
            "Epoch 180/200\n",
            "113/113 [==============================] - 11s 95ms/step - loss: 0.0108 - auc: 1.0000 - f1: 0.9986 - acc: 0.9986 - categorical_crossentropy: 0.0160 - val_loss: 0.2175 - val_auc: 0.9905 - val_f1: 0.9074 - val_acc: 0.9069 - val_categorical_crossentropy: 0.2175\n",
            "Epoch 181/200\n",
            "113/113 [==============================] - 11s 94ms/step - loss: 0.0106 - auc: 1.0000 - f1: 0.9986 - acc: 0.9986 - categorical_crossentropy: 0.0158 - val_loss: 0.1310 - val_auc: 0.9953 - val_f1: 0.9528 - val_acc: 0.9531 - val_categorical_crossentropy: 0.1310\n",
            "Epoch 182/200\n",
            "113/113 [==============================] - 12s 109ms/step - loss: 0.0106 - auc: 1.0000 - f1: 0.9975 - acc: 0.9975 - categorical_crossentropy: 0.0158 - val_loss: 0.0908 - val_auc: 0.9974 - val_f1: 0.9726 - val_acc: 0.9727 - val_categorical_crossentropy: 0.0908\n",
            "Epoch 183/200\n",
            "113/113 [==============================] - 11s 95ms/step - loss: 0.0101 - auc: 1.0000 - f1: 0.9986 - acc: 0.9986 - categorical_crossentropy: 0.0150 - val_loss: 0.0990 - val_auc: 0.9968 - val_f1: 0.9666 - val_acc: 0.9668 - val_categorical_crossentropy: 0.0990\n",
            "Epoch 184/200\n",
            "113/113 [==============================] - 11s 95ms/step - loss: 0.0091 - auc: 1.0000 - f1: 0.9997 - acc: 0.9997 - categorical_crossentropy: 0.0132 - val_loss: 0.0933 - val_auc: 0.9973 - val_f1: 0.9693 - val_acc: 0.9694 - val_categorical_crossentropy: 0.0933\n",
            "Epoch 185/200\n",
            "113/113 [==============================] - 11s 95ms/step - loss: 0.0102 - auc: 1.0000 - f1: 0.9989 - acc: 0.9989 - categorical_crossentropy: 0.0153 - val_loss: 0.1002 - val_auc: 0.9971 - val_f1: 0.9680 - val_acc: 0.9681 - val_categorical_crossentropy: 0.1002\n",
            "Epoch 186/200\n",
            "113/113 [==============================] - 11s 95ms/step - loss: 0.0090 - auc: 1.0000 - f1: 0.9992 - acc: 0.9992 - categorical_crossentropy: 0.0135 - val_loss: 0.0932 - val_auc: 0.9974 - val_f1: 0.9706 - val_acc: 0.9707 - val_categorical_crossentropy: 0.0932\n",
            "Epoch 187/200\n",
            "113/113 [==============================] - 12s 108ms/step - loss: 0.0091 - auc: 1.0000 - f1: 0.9997 - acc: 0.9997 - categorical_crossentropy: 0.0135 - val_loss: 0.0896 - val_auc: 0.9971 - val_f1: 0.9739 - val_acc: 0.9740 - val_categorical_crossentropy: 0.0896\n",
            "Epoch 188/200\n",
            "113/113 [==============================] - 11s 95ms/step - loss: 0.0096 - auc: 1.0000 - f1: 0.9992 - acc: 0.9992 - categorical_crossentropy: 0.0144 - val_loss: 0.0904 - val_auc: 0.9975 - val_f1: 0.9727 - val_acc: 0.9727 - val_categorical_crossentropy: 0.0904\n",
            "Epoch 189/200\n",
            "113/113 [==============================] - 11s 95ms/step - loss: 0.0112 - auc: 1.0000 - f1: 0.9975 - acc: 0.9975 - categorical_crossentropy: 0.0171 - val_loss: 0.0976 - val_auc: 0.9972 - val_f1: 0.9693 - val_acc: 0.9694 - val_categorical_crossentropy: 0.0976\n",
            "Epoch 190/200\n",
            "113/113 [==============================] - 11s 95ms/step - loss: 0.0084 - auc: 1.0000 - f1: 0.9989 - acc: 0.9989 - categorical_crossentropy: 0.0123 - val_loss: 0.1245 - val_auc: 0.9962 - val_f1: 0.9566 - val_acc: 0.9564 - val_categorical_crossentropy: 0.1245\n",
            "Epoch 191/200\n",
            "113/113 [==============================] - 11s 95ms/step - loss: 0.0094 - auc: 1.0000 - f1: 0.9983 - acc: 0.9983 - categorical_crossentropy: 0.0140 - val_loss: 0.0953 - val_auc: 0.9973 - val_f1: 0.9700 - val_acc: 0.9701 - val_categorical_crossentropy: 0.0953\n",
            "Epoch 192/200\n",
            "113/113 [==============================] - 11s 95ms/step - loss: 0.0090 - auc: 1.0000 - f1: 0.9992 - acc: 0.9992 - categorical_crossentropy: 0.0133 - val_loss: 0.0919 - val_auc: 0.9968 - val_f1: 0.9746 - val_acc: 0.9746 - val_categorical_crossentropy: 0.0919\n",
            "Epoch 193/200\n",
            "113/113 [==============================] - 11s 94ms/step - loss: 0.0094 - auc: 1.0000 - f1: 0.9978 - acc: 0.9978 - categorical_crossentropy: 0.0136 - val_loss: 0.0953 - val_auc: 0.9973 - val_f1: 0.9693 - val_acc: 0.9694 - val_categorical_crossentropy: 0.0953\n",
            "Epoch 194/200\n",
            "113/113 [==============================] - 11s 95ms/step - loss: 0.0090 - auc: 1.0000 - f1: 0.9992 - acc: 0.9992 - categorical_crossentropy: 0.0133 - val_loss: 0.0901 - val_auc: 0.9971 - val_f1: 0.9726 - val_acc: 0.9727 - val_categorical_crossentropy: 0.0901\n",
            "Epoch 195/200\n",
            "113/113 [==============================] - 11s 95ms/step - loss: 0.0089 - auc: 1.0000 - f1: 0.9978 - acc: 0.9978 - categorical_crossentropy: 0.0134 - val_loss: 0.1739 - val_auc: 0.9922 - val_f1: 0.9439 - val_acc: 0.9447 - val_categorical_crossentropy: 0.1739\n",
            "Epoch 196/200\n",
            "113/113 [==============================] - 11s 94ms/step - loss: 0.0089 - auc: 1.0000 - f1: 0.9989 - acc: 0.9989 - categorical_crossentropy: 0.0123 - val_loss: 0.1091 - val_auc: 0.9959 - val_f1: 0.9641 - val_acc: 0.9642 - val_categorical_crossentropy: 0.1091\n",
            "Epoch 197/200\n",
            "113/113 [==============================] - 11s 94ms/step - loss: 0.0075 - auc: 1.0000 - f1: 0.9992 - acc: 0.9992 - categorical_crossentropy: 0.0112 - val_loss: 0.0965 - val_auc: 0.9973 - val_f1: 0.9686 - val_acc: 0.9688 - val_categorical_crossentropy: 0.0965\n",
            "Epoch 198/200\n",
            "113/113 [==============================] - 11s 94ms/step - loss: 0.0083 - auc: 1.0000 - f1: 0.9989 - acc: 0.9989 - categorical_crossentropy: 0.0126 - val_loss: 0.0967 - val_auc: 0.9965 - val_f1: 0.9680 - val_acc: 0.9681 - val_categorical_crossentropy: 0.0967\n",
            "Epoch 199/200\n",
            "113/113 [==============================] - 11s 94ms/step - loss: 0.0071 - auc: 1.0000 - f1: 0.9994 - acc: 0.9994 - categorical_crossentropy: 0.0110 - val_loss: 0.0915 - val_auc: 0.9971 - val_f1: 0.9706 - val_acc: 0.9707 - val_categorical_crossentropy: 0.0915\n",
            "Epoch 200/200\n",
            "113/113 [==============================] - 11s 94ms/step - loss: 0.0088 - auc: 1.0000 - f1: 0.9975 - acc: 0.9975 - categorical_crossentropy: 0.0134 - val_loss: 0.1059 - val_auc: 0.9963 - val_f1: 0.9647 - val_acc: 0.9648 - val_categorical_crossentropy: 0.1059\n"
          ]
        }
      ],
      "source": [
        "# run_2 (fine tuning the pretrained layers)\n",
        "history2 = model.fit(train_dataset,\n",
        "                    # steps_per_epoch=10,\n",
        "                    epochs=200,\n",
        "                    validation_data=val_dataset, verbose=1, callbacks=cb,\n",
        "                    class_weight={\n",
        "                                    0: class_weights[0],\n",
        "                                    1: class_weights[1],\n",
        "                                    2: class_weights[2],\n",
        "                                    3: class_weights[3]\n",
        "                                  })"
      ]
    },
    {
      "cell_type": "code",
      "execution_count": 32,
      "metadata": {
        "colab": {
          "base_uri": "https://localhost:8080/"
        },
        "id": "AbzyBUwqWSAz",
        "outputId": "0aba0a09-2306-44a1-d7c6-da49796cbd15"
      },
      "outputs": [
        {
          "name": "stdout",
          "output_type": "stream",
          "text": [
            "Model: \"sequential\"\n",
            "_________________________________________________________________\n",
            " Layer (type)                Output Shape              Param #   \n",
            "=================================================================\n",
            " rescaling (Rescaling)       (None, 208, 176, 3)       0         \n",
            "                                                                 \n",
            " input_1 (InputLayer)        multiple                  0         \n",
            "                                                                 \n",
            " block1_conv1 (Conv2D)       (None, 208, 176, 64)      1792      \n",
            "                                                                 \n",
            " block1_conv2 (Conv2D)       (None, 208, 176, 64)      36928     \n",
            "                                                                 \n",
            " block1_pool (MaxPooling2D)  (None, 104, 88, 64)       0         \n",
            "                                                                 \n",
            " block2_conv1 (Conv2D)       (None, 104, 88, 128)      73856     \n",
            "                                                                 \n",
            " block2_conv2 (Conv2D)       (None, 104, 88, 128)      147584    \n",
            "                                                                 \n",
            " block2_pool (MaxPooling2D)  (None, 52, 44, 128)       0         \n",
            "                                                                 \n",
            " block3_conv1 (Conv2D)       (None, 52, 44, 256)       295168    \n",
            "                                                                 \n",
            " block3_conv2 (Conv2D)       (None, 52, 44, 256)       590080    \n",
            "                                                                 \n",
            " block3_conv3 (Conv2D)       (None, 52, 44, 256)       590080    \n",
            "                                                                 \n",
            " block3_pool (MaxPooling2D)  (None, 26, 22, 256)       0         \n",
            "                                                                 \n",
            " block4_conv1 (Conv2D)       (None, 26, 22, 512)       1180160   \n",
            "                                                                 \n",
            " block4_conv2 (Conv2D)       (None, 26, 22, 512)       2359808   \n",
            "                                                                 \n",
            " block4_conv3 (Conv2D)       (None, 26, 22, 512)       2359808   \n",
            "                                                                 \n",
            " block4_pool (MaxPooling2D)  (None, 13, 11, 512)       0         \n",
            "                                                                 \n",
            " block5_conv1 (Conv2D)       (None, 13, 11, 512)       2359808   \n",
            "                                                                 \n",
            " block5_conv2 (Conv2D)       (None, 13, 11, 512)       2359808   \n",
            "                                                                 \n",
            " block5_conv3 (Conv2D)       (None, 13, 11, 512)       2359808   \n",
            "                                                                 \n",
            " block5_pool (MaxPooling2D)  (None, 6, 5, 512)         0         \n",
            "                                                                 \n",
            " global_average_pooling2d (G  (None, 512)              0         \n",
            " lobalAveragePooling2D)                                          \n",
            "                                                                 \n",
            " dropout (Dropout)           (None, 512)               0         \n",
            "                                                                 \n",
            " dense (Dense)               (None, 4)                 2052      \n",
            "                                                                 \n",
            "=================================================================\n",
            "Total params: 14,716,740\n",
            "Trainable params: 11,801,092\n",
            "Non-trainable params: 2,915,648\n",
            "_________________________________________________________________\n"
          ]
        }
      ],
      "source": [
        "model.summary()"
      ]
    },
    {
      "cell_type": "code",
      "execution_count": 33,
      "metadata": {
        "colab": {
          "base_uri": "https://localhost:8080/",
          "height": 573
        },
        "id": "arFGrN4GYrt0",
        "outputId": "4ad16b55-eb61-4d39-ed9d-3d48b2e1a06a"
      },
      "outputs": [
        {
          "data": {
            "image/png": "[encoded data removed]",
            "text/plain": [
              "<Figure size 432x288 with 1 Axes>"
            ]
          },
          "metadata": {
            "needs_background": "light"
          },
          "output_type": "display_data"
        },
        {
          "data": {
            "image/png": "[encoded data removed]",
            "text/plain": [
              "<Figure size 432x288 with 1 Axes>"
            ]
          },
          "metadata": {
            "needs_background": "light"
          },
          "output_type": "display_data"
        }
      ],
      "source": [
        "# Plotting train_loss and val_loss wrt epochs\n",
        "import matplotlib.pyplot as plt\n",
        "plt.plot(history1.history['loss'])\n",
        "plt.plot(history1.history['val_loss'])\n",
        "plt.title('model loss')\n",
        "plt.ylabel('loss')\n",
        "plt.xlabel('epoch')\n",
        "plt.legend(['train', 'validation'], loc='upper left')\n",
        "plt.show()\n",
        "\n",
        "plt.plot(history1.history['f1'])\n",
        "plt.plot(history1.history['val_f1'])\n",
        "plt.title('model f1')\n",
        "plt.ylabel('f1')\n",
        "plt.xlabel('epoch')\n",
        "plt.legend(['train', 'validation'], loc='upper left')\n",
        "plt.show()"
      ]
    },
    {
      "cell_type": "code",
      "execution_count": 34,
      "metadata": {
        "colab": {
          "base_uri": "https://localhost:8080/",
          "height": 573
        },
        "id": "JdjJO3pUYrt0",
        "outputId": "dca7db21-9823-4d40-847d-c4f17b526539"
      },
      "outputs": [
        {
          "data": {
            "image/png": "[encoded data removed]",
            "text/plain": [
              "<Figure size 432x288 with 1 Axes>"
            ]
          },
          "metadata": {
            "needs_background": "light"
          },
          "output_type": "display_data"
        },
        {
          "data": {
            "image/png": "[encoded data removed]",
            "text/plain": [
              "<Figure size 432x288 with 1 Axes>"
            ]
          },
          "metadata": {
            "needs_background": "light"
          },
          "output_type": "display_data"
        }
      ],
      "source": [
        "\n",
        "plt.plot(history1.history['auc'])\n",
        "plt.plot(history1.history['val_auc'])\n",
        "plt.title('model auc')\n",
        "plt.ylabel('auc')\n",
        "plt.xlabel('epoch')\n",
        "plt.legend(['train', 'validation'], loc='upper left')\n",
        "plt.show()\n",
        "\n",
        "plt.plot(history1.history['acc'])\n",
        "plt.plot(history1.history['val_acc'])\n",
        "plt.title('model acc')\n",
        "plt.ylabel('acc')\n",
        "plt.xlabel('epoch')\n",
        "plt.legend(['train', 'validation'], loc='upper left')\n",
        "plt.show()"
      ]
    },
    {
      "cell_type": "code",
      "execution_count": 35,
      "metadata": {
        "colab": {
          "base_uri": "https://localhost:8080/",
          "height": 295
        },
        "id": "spGrhau4ebWA",
        "outputId": "332229bc-c8e4-4346-ad3f-fa3ea02138dd"
      },
      "outputs": [
        {
          "data": {
            "image/png": "[encoded data removed]",
            "text/plain": [
              "<Figure size 432x288 with 1 Axes>"
            ]
          },
          "metadata": {
            "needs_background": "light"
          },
          "output_type": "display_data"
        }
      ],
      "source": [
        "plt.plot(history1.history['categorical_crossentropy'])\n",
        "plt.plot(history1.history['val_categorical_crossentropy'])\n",
        "plt.title('model crossentropy')\n",
        "plt.ylabel('crossentropy')\n",
        "plt.xlabel('epoch')\n",
        "plt.legend(['train', 'validation'], loc='upper left')\n",
        "plt.show()"
      ]
    },
    {
      "cell_type": "code",
      "execution_count": 36,
      "metadata": {
        "colab": {
          "base_uri": "https://localhost:8080/",
          "height": 573
        },
        "id": "tiaU4x-2Yrt1",
        "outputId": "b18dd3b4-0b26-4dd1-a9fc-88a415cf05c3"
      },
      "outputs": [
        {
          "data": {
            "image/png": "[encoded data removed]",
            "text/plain": [
              "<Figure size 432x288 with 1 Axes>"
            ]
          },
          "metadata": {
            "needs_background": "light"
          },
          "output_type": "display_data"
        },
        {
          "data": {
            "image/png": "[encoded data removed]",
            "text/plain": [
              "<Figure size 432x288 with 1 Axes>"
            ]
          },
          "metadata": {
            "needs_background": "light"
          },
          "output_type": "display_data"
        }
      ],
      "source": [
        "# Plotting train_loss and val_loss wrt epochs\n",
        "import matplotlib.pyplot as plt\n",
        "plt.plot(history2.history['loss'])\n",
        "plt.plot(history2.history['val_loss'])\n",
        "plt.title('model loss')\n",
        "plt.ylabel('loss')\n",
        "plt.xlabel('epoch')\n",
        "plt.legend(['train', 'validation'], loc='upper left')\n",
        "plt.show()\n",
        "\n",
        "plt.plot(history2.history['f1'])\n",
        "plt.plot(history2.history['val_f1'])\n",
        "plt.title('model f1')\n",
        "plt.ylabel('f1')\n",
        "plt.xlabel('epoch')\n",
        "plt.legend(['train', 'validation'], loc='upper left')\n",
        "plt.show()"
      ]
    },
    {
      "cell_type": "code",
      "execution_count": 37,
      "metadata": {
        "colab": {
          "base_uri": "https://localhost:8080/",
          "height": 573
        },
        "id": "BvT1W30cYrt1",
        "outputId": "53017120-5542-488a-977f-12f32e0df8b5"
      },
      "outputs": [
        {
          "data": {
            "image/png": "[encoded data removed]",
            "text/plain": [
              "<Figure size 432x288 with 1 Axes>"
            ]
          },
          "metadata": {
            "needs_background": "light"
          },
          "output_type": "display_data"
        },
        {
          "data": {
            "image/png": "[encoded data removed]",
            "text/plain": [
              "<Figure size 432x288 with 1 Axes>"
            ]
          },
          "metadata": {
            "needs_background": "light"
          },
          "output_type": "display_data"
        }
      ],
      "source": [
        "plt.plot(history2.history['auc'])\n",
        "plt.plot(history2.history['val_auc'])\n",
        "plt.title('model auc')\n",
        "plt.ylabel('auc')\n",
        "plt.xlabel('epoch')\n",
        "plt.legend(['train', 'validation'], loc='upper left')\n",
        "plt.show()\n",
        "\n",
        "plt.plot(history2.history['acc'])\n",
        "plt.plot(history2.history['val_acc'])\n",
        "plt.title('model acc')\n",
        "plt.ylabel('acc')\n",
        "plt.xlabel('epoch')\n",
        "plt.legend(['train', 'validation'], loc='upper left')\n",
        "plt.show()"
      ]
    },
    {
      "cell_type": "code",
      "execution_count": 38,
      "metadata": {
        "colab": {
          "base_uri": "https://localhost:8080/",
          "height": 295
        },
        "id": "r713hOFbf_YK",
        "outputId": "8778a88b-b7df-46af-9212-3db98ba1832e"
      },
      "outputs": [
        {
          "data": {
            "image/png": "[encoded data removed]",
            "text/plain": [
              "<Figure size 432x288 with 1 Axes>"
            ]
          },
          "metadata": {
            "needs_background": "light"
          },
          "output_type": "display_data"
        }
      ],
      "source": [
        "plt.plot(history2.history['categorical_crossentropy'])\n",
        "plt.plot(history2.history['val_categorical_crossentropy'])\n",
        "plt.title('model crossentropy')\n",
        "plt.ylabel('crossentropy')\n",
        "plt.xlabel('epoch')\n",
        "plt.legend(['train', 'validation'], loc='upper left')\n",
        "plt.show()"
      ]
    },
    {
      "cell_type": "code",
      "execution_count": 39,
      "metadata": {
        "id": "laKiLcvjQv7z"
      },
      "outputs": [],
      "source": [
        "model.save(\"/content/drive/MyDrive/AML_proj_pics2/resnet_4.h5\")"
      ]
    },
    {
      "cell_type": "code",
      "execution_count": 40,
      "metadata": {
        "id": "o4OAxrEHYUh1"
      },
      "outputs": [],
      "source": [
        "model4=keras.models.load_model('/content/drive/MyDrive/AML_proj_pics2/resnet_4.h5')"
      ]
    },
    {
      "cell_type": "code",
      "execution_count": 41,
      "metadata": {
        "colab": {
          "base_uri": "https://localhost:8080/"
        },
        "id": "kBSCd1-7Yrt1",
        "outputId": "131567ca-910e-4032-cdc7-fbbaeaef158e"
      },
      "outputs": [
        {
          "name": "stdout",
          "output_type": "stream",
          "text": [
            "Found 1280 files belonging to 4 classes.\n"
          ]
        }
      ],
      "source": [
        "test_ds = tf.keras.preprocessing.image_dataset_from_directory(\n",
        "    \"/content/drive/MyDrive/AML_proj_pics2/test\",\n",
        "    image_size=target,\n",
        "    batch_size=batch,\n",
        "    shuffle=False,\n",
        ")\n",
        "\n",
        "test_ds = test_ds.map(one_hot_label, num_parallel_calls=autotune)\n",
        "test_ds = test_ds.cache().prefetch(buffer_size=autotune)"
      ]
    },
    {
      "cell_type": "code",
      "execution_count": 42,
      "metadata": {
        "colab": {
          "base_uri": "https://localhost:8080/"
        },
        "id": "_YGgyO4hYrt2",
        "outputId": "0c445fe2-7648-473c-93d4-891f852eb726"
      },
      "outputs": [
        {
          "name": "stdout",
          "output_type": "stream",
          "text": [
            "40/40 [==============================] - 2s 49ms/step - loss: 1.5060 - auc: 0.8859 - f1: 0.6816 - acc: 0.7070 - categorical_crossentropy: 1.5060\n"
          ]
        },
        {
          "data": {
            "text/plain": [
              "[1.5060343742370605,\n",
              " 0.8859343528747559,\n",
              " 0.681571364402771,\n",
              " 0.70703125,\n",
              " 1.5060343742370605]"
            ]
          },
          "execution_count": 42,
          "metadata": {},
          "output_type": "execute_result"
        }
      ],
      "source": [
        "model4.evaluate(test_ds)"
      ]
    },
    {
      "cell_type": "code",
      "execution_count": 46,
      "metadata": {
        "id": "RQXxwa2dYrt3"
      },
      "outputs": [],
      "source": [
        "predictions=model4.predict(test_ds)"
      ]
    },
    {
      "cell_type": "code",
      "execution_count": 43,
      "metadata": {
        "colab": {
          "base_uri": "https://localhost:8080/"
        },
        "id": "PAlR1SPDYrt3",
        "outputId": "95e8d0db-f6e9-4dda-cec9-0df38fdb0ef9"
      },
      "outputs": [
        {
          "data": {
            "text/plain": [
              "[179, 12, 641, 448]"
            ]
          },
          "execution_count": 43,
          "metadata": {},
          "output_type": "execute_result"
        }
      ],
      "source": [
        "# list of number of images belonging to each class in test directory\n",
        "test_images = []\n",
        "\n",
        "for label in class_names:\n",
        "    dir_name = \"/content/drive/MyDrive/AML_proj_pics2/test/\" + label\n",
        "    test_images.append(len([name for name in os.listdir(dir_name)]))\n",
        "test_images"
      ]
    },
    {
      "cell_type": "code",
      "execution_count": 44,
      "metadata": {
        "colab": {
          "base_uri": "https://localhost:8080/"
        },
        "id": "c6qOwTIxYrt4",
        "outputId": "2dbb9be9-3414-40f8-95c2-bc72d2de3eab"
      },
      "outputs": [
        {
          "data": {
            "text/plain": [
              "([179, 12, 641, 448],\n",
              " ['MildDemented', 'ModerateDemented', 'NonDemented', 'VeryMildDemented'],\n",
              " array([0, 0, 0, ..., 3, 3, 3]))"
            ]
          },
          "execution_count": 44,
          "metadata": {},
          "output_type": "execute_result"
        }
      ],
      "source": [
        "# targets list\n",
        "targets=[]\n",
        "for i in range(0, len(test_images)):\n",
        "    targets+=[i]*test_images[i]\n",
        "targets=np.asarray(targets)\n",
        "test_images, class_names, targets"
      ]
    },
    {
      "cell_type": "code",
      "execution_count": 47,
      "metadata": {
        "colab": {
          "base_uri": "https://localhost:8080/"
        },
        "id": "ftzsqCv-Yrt4",
        "outputId": "54459bae-dcc5-443c-c17b-06b630467730"
      },
      "outputs": [
        {
          "name": "stdout",
          "output_type": "stream",
          "text": [
            "                  precision    recall  f1-score   support\n",
            "\n",
            "    MildDemented       0.86      0.17      0.28       179\n",
            "ModerateDemented       0.67      0.33      0.44        12\n",
            "     NonDemented       0.76      0.80      0.78       641\n",
            "VeryMildDemented       0.63      0.80      0.71       448\n",
            "\n",
            "        accuracy                           0.71      1280\n",
            "       macro avg       0.73      0.53      0.55      1280\n",
            "    weighted avg       0.73      0.71      0.68      1280\n",
            "\n"
          ]
        }
      ],
      "source": [
        "from sklearn.metrics import classification_report\n",
        "print(classification_report(np.asarray(targets), np.argmax(predictions, axis=1), target_names=class_names))"
      ]
    },
    {
      "cell_type": "code",
      "execution_count": 48,
      "metadata": {
        "colab": {
          "base_uri": "https://localhost:8080/",
          "height": 419
        },
        "id": "qbLMS4mTYrt4",
        "outputId": "a96ccfd1-95fd-446e-d9e4-d392f92e8afa"
      },
      "outputs": [
        {
          "data": {
            "text/html": [
              "<div>\n",
              "<style scoped>\n",
              "    .dataframe tbody tr th:only-of-type {\n",
              "        vertical-align: middle;\n",
              "    }\n",
              "\n",
              "    .dataframe tbody tr th {\n",
              "        vertical-align: top;\n",
              "    }\n",
              "\n",
              "    .dataframe thead th {\n",
              "        text-align: right;\n",
              "    }\n",
              "</style>\n",
              "<table border=\"1\" class=\"dataframe\">\n",
              "  <thead>\n",
              "    <tr style=\"text-align: right;\">\n",
              "      <th></th>\n",
              "      <th>MildDemented</th>\n",
              "      <th>ModerateDemented</th>\n",
              "      <th>NonDemented</th>\n",
              "      <th>VeryMildDemented</th>\n",
              "    </tr>\n",
              "  </thead>\n",
              "  <tbody>\n",
              "    <tr>\n",
              "      <th>0</th>\n",
              "      <td>9.962243e-01</td>\n",
              "      <td>7.348955e-05</td>\n",
              "      <td>0.000356</td>\n",
              "      <td>0.003347</td>\n",
              "    </tr>\n",
              "    <tr>\n",
              "      <th>1</th>\n",
              "      <td>1.628692e-01</td>\n",
              "      <td>4.266958e-05</td>\n",
              "      <td>0.831966</td>\n",
              "      <td>0.005122</td>\n",
              "    </tr>\n",
              "    <tr>\n",
              "      <th>2</th>\n",
              "      <td>1.923601e-02</td>\n",
              "      <td>5.706971e-07</td>\n",
              "      <td>0.974740</td>\n",
              "      <td>0.006024</td>\n",
              "    </tr>\n",
              "    <tr>\n",
              "      <th>3</th>\n",
              "      <td>9.982473e-01</td>\n",
              "      <td>2.081609e-04</td>\n",
              "      <td>0.000081</td>\n",
              "      <td>0.001463</td>\n",
              "    </tr>\n",
              "    <tr>\n",
              "      <th>4</th>\n",
              "      <td>7.409617e-01</td>\n",
              "      <td>1.558185e-04</td>\n",
              "      <td>0.094758</td>\n",
              "      <td>0.164124</td>\n",
              "    </tr>\n",
              "    <tr>\n",
              "      <th>...</th>\n",
              "      <td>...</td>\n",
              "      <td>...</td>\n",
              "      <td>...</td>\n",
              "      <td>...</td>\n",
              "    </tr>\n",
              "    <tr>\n",
              "      <th>1275</th>\n",
              "      <td>6.763230e-09</td>\n",
              "      <td>1.155375e-11</td>\n",
              "      <td>0.993986</td>\n",
              "      <td>0.006014</td>\n",
              "    </tr>\n",
              "    <tr>\n",
              "      <th>1276</th>\n",
              "      <td>1.034004e-03</td>\n",
              "      <td>1.064925e-08</td>\n",
              "      <td>0.988133</td>\n",
              "      <td>0.010833</td>\n",
              "    </tr>\n",
              "    <tr>\n",
              "      <th>1277</th>\n",
              "      <td>1.046128e-08</td>\n",
              "      <td>2.589973e-08</td>\n",
              "      <td>0.808173</td>\n",
              "      <td>0.191827</td>\n",
              "    </tr>\n",
              "    <tr>\n",
              "      <th>1278</th>\n",
              "      <td>6.703048e-08</td>\n",
              "      <td>5.648787e-08</td>\n",
              "      <td>0.007042</td>\n",
              "      <td>0.992958</td>\n",
              "    </tr>\n",
              "    <tr>\n",
              "      <th>1279</th>\n",
              "      <td>2.396307e-09</td>\n",
              "      <td>1.016481e-09</td>\n",
              "      <td>0.084998</td>\n",
              "      <td>0.915002</td>\n",
              "    </tr>\n",
              "  </tbody>\n",
              "</table>\n",
              "<p>1280 rows × 4 columns</p>\n",
              "</div>"
            ],
            "text/plain": [
              "      MildDemented  ModerateDemented  NonDemented  VeryMildDemented\n",
              "0     9.962243e-01      7.348955e-05     0.000356          0.003347\n",
              "1     1.628692e-01      4.266958e-05     0.831966          0.005122\n",
              "2     1.923601e-02      5.706971e-07     0.974740          0.006024\n",
              "3     9.982473e-01      2.081609e-04     0.000081          0.001463\n",
              "4     7.409617e-01      1.558185e-04     0.094758          0.164124\n",
              "...            ...               ...          ...               ...\n",
              "1275  6.763230e-09      1.155375e-11     0.993986          0.006014\n",
              "1276  1.034004e-03      1.064925e-08     0.988133          0.010833\n",
              "1277  1.046128e-08      2.589973e-08     0.808173          0.191827\n",
              "1278  6.703048e-08      5.648787e-08     0.007042          0.992958\n",
              "1279  2.396307e-09      1.016481e-09     0.084998          0.915002\n",
              "\n",
              "[1280 rows x 4 columns]"
            ]
          },
          "execution_count": 48,
          "metadata": {},
          "output_type": "execute_result"
        }
      ],
      "source": [
        "# generating predictions csv file\n",
        "import pandas as pd\n",
        "df=pd.DataFrame(columns=class_names)\n",
        "for i in range(0, 4):\n",
        "    df[class_names[i]]=predictions[:,i]\n",
        "\n",
        "df"
      ]
    },
    {
      "cell_type": "code",
      "execution_count": 49,
      "metadata": {
        "colab": {
          "base_uri": "https://localhost:8080/",
          "height": 714
        },
        "id": "bcV6uVY24TIE",
        "outputId": "4af43a64-c40b-4ce5-affc-00e9a93dff53"
      },
      "outputs": [
        {
          "data": {
            "image/png": "[encoded data removed]",
            "text/plain": [
              "<Figure size 864x864 with 2 Axes>"
            ]
          },
          "metadata": {
            "needs_background": "light"
          },
          "output_type": "display_data"
        }
      ],
      "source": [
        "import seaborn as sns\n",
        "from sklearn.metrics import confusion_matrix\n",
        "fig,ax = plt.subplots(figsize=(12,12))\n",
        "sns.heatmap(confusion_matrix(np.asarray(targets), np.argmax(predictions, axis=1)),annot=True,fmt='g')\n",
        "plt.xlabel('Predicted labels')\n",
        "plt.ylabel('Actual labels')\n",
        "ax.set_xticklabels(class_names)\n",
        "ax.set_yticklabels(class_names)\n",
        "plt.show()"
      ]
    },
    {
      "cell_type": "code",
      "execution_count": 50,
      "metadata": {
        "colab": {
          "base_uri": "https://localhost:8080/"
        },
        "id": "g9sxMgjYTnou",
        "outputId": "35310227-c7ab-4d8f-bd7b-bc1fd69926a4"
      },
      "outputs": [
        {
          "data": {
            "text/plain": [
              "(512, 4)"
            ]
          },
          "execution_count": 50,
          "metadata": {},
          "output_type": "execute_result"
        }
      ],
      "source": [
        "from keras.models import Model\n",
        "import scipy as sp\n",
        "gap_weights = model4.layers[-1].get_weights()[0]\n",
        "gap_weights.shape"
      ]
    },
    {
      "cell_type": "code",
      "execution_count": 51,
      "metadata": {
        "id": "71oOMRoh2nur"
      },
      "outputs": [],
      "source": [
        "preds=model4.predict(test_ds)"
      ]
    },
    {
      "cell_type": "code",
      "execution_count": 52,
      "metadata": {
        "id": "nAczYnXSTpWN"
      },
      "outputs": [],
      "source": [
        "cam_model  = Model(inputs=model4.input,outputs=(model4.layers[-15].output,model4.layers[-1].output))"
      ]
    },
    {
      "cell_type": "code",
      "execution_count": 53,
      "metadata": {
        "colab": {
          "base_uri": "https://localhost:8080/"
        },
        "id": "HTz-o0-cBHZN",
        "outputId": "dc0a7e8b-993b-429b-ca39-b5f0b03134e0"
      },
      "outputs": [
        {
          "data": {
            "text/plain": [
              "(1280, 52, 44, 256)"
            ]
          },
          "execution_count": 53,
          "metadata": {},
          "output_type": "execute_result"
        }
      ],
      "source": [
        "features,results = cam_model.predict(test_ds)\n",
        "features.shape"
      ]
    },
    {
      "cell_type": "code",
      "execution_count": 54,
      "metadata": {
        "colab": {
          "base_uri": "https://localhost:8080/"
        },
        "id": "PiYPmBbR_tR1",
        "outputId": "d85350c3-ace4-4933-bb29-ca5cddcc04a8"
      },
      "outputs": [
        {
          "data": {
            "text/plain": [
              "array([[9.9622428e-01, 7.3489551e-05, 3.5554258e-04, 3.3466949e-03],\n",
              "       [1.6286922e-01, 4.2669584e-05, 8.3196586e-01, 5.1222015e-03],\n",
              "       [1.9236006e-02, 5.7069707e-07, 9.7473973e-01, 6.0237236e-03],\n",
              "       ...,\n",
              "       [1.0461282e-08, 2.5899725e-08, 8.0817264e-01, 1.9182734e-01],\n",
              "       [6.7030484e-08, 5.6487874e-08, 7.0419982e-03, 9.9295783e-01],\n",
              "       [2.3963069e-09, 1.0164810e-09, 8.4998488e-02, 9.1500157e-01]],\n",
              "      dtype=float32)"
            ]
          },
          "execution_count": 54,
          "metadata": {},
          "output_type": "execute_result"
        }
      ],
      "source": [
        "results"
      ]
    },
    {
      "cell_type": "code",
      "execution_count": 55,
      "metadata": {
        "colab": {
          "base_uri": "https://localhost:8080/",
          "height": 284
        },
        "id": "aO5wVVdDkWqN",
        "outputId": "76b9d67e-dfbb-4211-996e-a6cb6b0cc754"
      },
      "outputs": [
        {
          "data": {
            "text/plain": [
              "<matplotlib.image.AxesImage at 0x7fdbaa874a50>"
            ]
          },
          "execution_count": 55,
          "metadata": {},
          "output_type": "execute_result"
        },
        {
          "data": {
            "image/png": "[encoded data removed]",
            "text/plain": [
              "<Figure size 432x288 with 1 Axes>"
            ]
          },
          "metadata": {
            "needs_background": "light"
          },
          "output_type": "display_data"
        }
      ],
      "source": [
        "pic_sum=np.zeros((52,44))\n",
        "for i in range(0,255):\n",
        "  pic_sum=pic_sum+features[1279, :, :, i]\n",
        "\n",
        "avg_pic=pic_sum/(256*5)\n",
        "\n",
        "\n",
        "plt.imshow(avg_pic, cmap='jet')\n"
      ]
    },
    {
      "cell_type": "code",
      "execution_count": 56,
      "metadata": {
        "id": "s-WEG4_7Wqnc"
      },
      "outputs": [],
      "source": [
        "test_dir = '/content/drive/MyDrive/AML_proj_pics2/test'\n",
        "categories_test = os.listdir(test_dir)\n",
        "labels = [i for i in range(len(categories_test))]\n",
        "labelDict_test = dict(zip(categories_test,labels))"
      ]
    },
    {
      "cell_type": "code",
      "execution_count": 57,
      "metadata": {
        "id": "ubQXbM7BYdYX"
      },
      "outputs": [],
      "source": [
        "import cv2"
      ]
    },
    {
      "cell_type": "code",
      "execution_count": 58,
      "metadata": {
        "id": "ze-YMnPNYL3f"
      },
      "outputs": [],
      "source": [
        "data_test = []\n",
        "target_test = []\n",
        "imgs_path=[]\n",
        "\n",
        "for c in categories_test:\n",
        "    c_join = os.path.join(test_dir,c)\n",
        "    #print(c_join)\n",
        "    train_img = os.listdir(c_join)\n",
        "    #print(train_img)\n",
        "    \n",
        "    for img in train_img:\n",
        "        img_join = os.path.join(c_join,img)\n",
        "        imgs_path.append(img_join)\n",
        "        temp = cv2.imread(img_join)\n",
        "        \n",
        "        gray = cv2.cvtColor(temp,cv2.COLOR_BGR2GRAY)\n",
        "        data_test.append(gray)\n",
        "        \n",
        "        target_test.append(labelDict_test[c])"
      ]
    },
    {
      "cell_type": "code",
      "execution_count": 59,
      "metadata": {
        "id": "uRwEjJBwfXx5"
      },
      "outputs": [],
      "source": [
        "import numpy as np\n",
        "import tensorflow as tf\n",
        "from tensorflow import keras\n",
        "\n",
        "# Display\n",
        "from IPython.display import Image, display\n",
        "import matplotlib.pyplot as plt\n",
        "import matplotlib.cm as cm"
      ]
    },
    {
      "cell_type": "code",
      "execution_count": 60,
      "metadata": {
        "id": "3e6IidADeFqY"
      },
      "outputs": [],
      "source": [
        "def save_and_display_gradcam(img_path, heatmap, cam_path=\"cam.jpg\", alpha=1, i=i):\n",
        "    # Load the original image\n",
        "    img = keras.preprocessing.image.load_img(img_path)\n",
        "    img = keras.preprocessing.image.img_to_array(img)\n",
        "\n",
        "    # Rescale heatmap to a range 0-255\n",
        "    heatmap = np.uint8(255 * heatmap)\n",
        "\n",
        "    # Use jet colormap to colorize heatmap\n",
        "    jet = cm.get_cmap(\"jet\")\n",
        "\n",
        "    # Use RGB values of the colormap\n",
        "    jet_colors = jet(np.arange(256))[:, :3]\n",
        "    jet_heatmap = jet_colors[heatmap]\n",
        "\n",
        "    # Create an image with RGB colorized heatmap\n",
        "    jet_heatmap = keras.preprocessing.image.array_to_img(jet_heatmap)\n",
        "    jet_heatmap = jet_heatmap.resize((img.shape[1], img.shape[0]))\n",
        "    jet_heatmap = keras.preprocessing.image.img_to_array(jet_heatmap)\n",
        "\n",
        "    # Superimpose the heatmap on original image\n",
        "    superimposed_img = jet_heatmap * alpha + img\n",
        "    superimposed_img = keras.preprocessing.image.array_to_img(superimposed_img)\n",
        "\n",
        "    # Save the superimposed image\n",
        "    superimposed_img.save(cam_path)\n",
        "\n",
        "    # Display Grad CAM\n",
        "    display(Image(cam_path))\n",
        "    print('Predicted class:', str(list(labelDict_test.keys())[np.argmax(results[i])]), ', Predicted probability:', np.max(results[i])/np.sum(results[i]), ', Actual class:', str(list(labelDict_test.keys())[target_test[i]]), '\\n')"
      ]
    },
    {
      "cell_type": "code",
      "execution_count": 61,
      "metadata": {
        "colab": {
          "base_uri": "https://localhost:8080/",
          "height": 259
        },
        "id": "NlRNDHDIJR6F",
        "outputId": "e92b4f39-a0cb-4a37-80e2-f6714f8a1cea"
      },
      "outputs": [
        {
          "data": {
            "image/jpeg": "[encoded data removed]",
            "text/plain": [
              "<IPython.core.display.Image object>"
            ]
          },
          "metadata": {},
          "output_type": "display_data"
        },
        {
          "name": "stdout",
          "output_type": "stream",
          "text": [
            "Predicted class: NonDemented , Predicted probability: 0.98724306 , Actual class: NonDemented \n",
            "\n"
          ]
        }
      ],
      "source": [
        "save_and_display_gradcam(imgs_path[1279], avg_pic)"
      ]
    },
    {
      "cell_type": "code",
      "execution_count": 217,
      "metadata": {
        "id": "yOo-BMA-LqBh"
      },
      "outputs": [],
      "source": [
        "import random"
      ]
    },
    {
      "cell_type": "code",
      "execution_count": 64,
      "metadata": {
        "id": "Tv2rSb3NgtC5"
      },
      "outputs": [],
      "source": [
        "def display_images():\n",
        "  rng = np.random.default_rng()\n",
        "  rints = rng.integers(low=0, high=1280, size=5)\n",
        "  \n",
        "  pic_sum=np.zeros((52,44))\n",
        "\n",
        "  for i in rints:\n",
        "    pic_sum=np.zeros((52,44))\n",
        "    for j in range(0,255):\n",
        "      pic_sum=pic_sum+features[i, :, :, j]\n",
        "      avg_pic=pic_sum/(256*5)\n",
        "    save_and_display_gradcam(imgs_path[i],avg_pic, i=i)"
      ]
    },
    {
      "cell_type": "code",
      "execution_count": 68,
      "metadata": {
        "colab": {
          "base_uri": "https://localhost:8080/",
          "height": 1000
        },
        "id": "zk35qnL5FtCd",
        "outputId": "8f36f1d6-0b87-4e2f-efc6-e65f782fdaf0"
      },
      "outputs": [
        {
          "data": {
            "image/jpeg": "[encoded data removed]",
            "text/plain": [
              "<IPython.core.display.Image object>"
            ]
          },
          "metadata": {},
          "output_type": "display_data"
        },
        {
          "name": "stdout",
          "output_type": "stream",
          "text": [
            "Predicted class: VeryMildDemented , Predicted probability: 0.9750845 , Actual class: MildDemented \n",
            "\n"
          ]
        },
        {
          "data": {
            "image/jpeg": "[encoded data removed]",
            "text/plain": [
              "<IPython.core.display.Image object>"
            ]
          },
          "metadata": {},
          "output_type": "display_data"
        },
        {
          "name": "stdout",
          "output_type": "stream",
          "text": [
            "Predicted class: NonDemented , Predicted probability: 0.9976439 , Actual class: NonDemented \n",
            "\n"
          ]
        },
        {
          "data": {
            "image/jpeg": "[encoded data removed]",
            "text/plain": [
              "<IPython.core.display.Image object>"
            ]
          },
          "metadata": {},
          "output_type": "display_data"
        },
        {
          "name": "stdout",
          "output_type": "stream",
          "text": [
            "Predicted class: VeryMildDemented , Predicted probability: 0.9899086 , Actual class: MildDemented \n",
            "\n"
          ]
        },
        {
          "data": {
            "image/jpeg": "[encoded data removed]",
            "text/plain": [
              "<IPython.core.display.Image object>"
            ]
          },
          "metadata": {},
          "output_type": "display_data"
        },
        {
          "name": "stdout",
          "output_type": "stream",
          "text": [
            "Predicted class: VeryMildDemented , Predicted probability: 0.9688063 , Actual class: VeryMildDemented \n",
            "\n"
          ]
        },
        {
          "data": {
            "image/jpeg": "[encoded data removed]",
            "text/plain": [
              "<IPython.core.display.Image object>"
            ]
          },
          "metadata": {},
          "output_type": "display_data"
        },
        {
          "name": "stdout",
          "output_type": "stream",
          "text": [
            "Predicted class: NonDemented , Predicted probability: 0.91740566 , Actual class: NonDemented \n",
            "\n"
          ]
        }
      ],
      "source": [
        "display_images()"
      ]
    }
  ],
  "metadata": {
    "accelerator": "GPU",
    "colab": {
      "collapsed_sections": [],
      "machine_shape": "hm",
      "name": "Copy of Transfer Leanring 5.ipynb",
      "provenance": []
    },
    "interpreter": {
      "hash": "195160dddddddbb256d91603bc442a93c9a53a4b398b73696d3e3c7de64a83c6"
    },
    "kernelspec": {
      "display_name": "Python 3.8.8 64-bit ('base': conda)",
      "language": "python",
      "name": "python3"
    },
    "language_info": {
      "codemirror_mode": {
        "name": "ipython",
        "version": 3
      },
      "file_extension": ".py",
      "mimetype": "text/x-python",
      "name": "python",
      "nbconvert_exporter": "python",
      "pygments_lexer": "ipython3",
      "version": "3.8.8"
    },
    "orig_nbformat": 4
  },
  "nbformat": 4,
  "nbformat_minor": 0
}
